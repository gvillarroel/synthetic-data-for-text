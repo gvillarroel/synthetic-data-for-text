{
 "cells": [
  {
   "cell_type": "markdown",
   "metadata": {},
   "source": [
    "# King County"
   ]
  },
  {
   "cell_type": "code",
   "execution_count": null,
   "metadata": {},
   "outputs": [],
   "source": [
    "%%capture\n",
    "import sys\n",
    "!ln -s ../syntheticml .\n",
    "!{sys.executable} -m pip install -r ../requirements.txt\n",
    "!{sys.executable} -m pip install -U kaleido\n",
    "!{sys.executable} -m pip install git+https://github.com/mostly-ai/virtualdatalab.git"
   ]
  },
  {
   "cell_type": "code",
   "execution_count": null,
   "metadata": {},
   "outputs": [],
   "source": [
    "import pandas as pd\n",
    "df = pd.read_csv('../datasets/kingcounty/raw/kc_house_data.csv');\n",
    "df.sample(3)"
   ]
  },
  {
   "cell_type": "code",
   "execution_count": null,
   "metadata": {},
   "outputs": [],
   "source": [
    "%%capture\n",
    "from syntheticml.data.synthetic import Synthetic, MODELS\n",
    "syn = Synthetic(df,\n",
    "                    id=\"id\",\n",
    "                    #category_columns=(\"condition\", \"floors\", \"grade\", \"view\", \"waterfront\", \"yr_built\", \"yr_renovated\", \"zipcode\", \"bathrooms\", \"bedrooms\",),\n",
    "                    category_columns=(\"condition\", \"floors\", \"grade\", \"view\",\n",
    "                                      \"waterfront\", \"zipcode\", \"bathrooms\", \"bedrooms\",),\n",
    "                    synthetic_folder=\"../datasets/kingcounty/synth\",\n",
    "                    models=MODELS.keys(),\n",
    "                    n_sample=21613,\n",
    "                    max_cpu_pool=1,\n",
    "                    target_column=\"price\"\n",
    "                    )"
   ]
  },
  {
   "cell_type": "code",
   "execution_count": null,
   "metadata": {},
   "outputs": [
    {
     "ename": "",
     "evalue": "",
     "output_type": "error",
     "traceback": [
      "\u001b[1;31mThe Kernel crashed while executing code in the the current cell or a previous cell. Please review the code in the cell(s) to identify a possible cause of the failure. Click <a href='https://aka.ms/vscodeJupyterKernelCrash'>here</a> for more info. View Jupyter <a href='command:jupyter.viewOutput'>log</a> for further details."
     ]
    }
   ],
   "source": [
    "syn.process()\n",
    "\n",
    "syn.process_scores()\n"
   ]
  },
  {
   "cell_type": "markdown",
   "metadata": {},
   "source": [
    "## Metricas\n",
    "### Continuas"
   ]
  },
  {
   "cell_type": "code",
   "execution_count": null,
   "metadata": {},
   "outputs": [],
   "source": [
    "metrics = syn.current_metrics()\n",
    "metrics[~metrics.is_categorical].dropna(axis=1, how='all')"
   ]
  },
  {
   "cell_type": "code",
   "execution_count": null,
   "metadata": {},
   "outputs": [],
   "source": [
    "print(metrics[~metrics.is_categorical].dropna(axis=1, how='all').head(1).T\n",
    "      #.style.to_latex()\n",
    "      )"
   ]
  },
  {
   "cell_type": "markdown",
   "metadata": {},
   "source": [
    "### Categoricas"
   ]
  },
  {
   "cell_type": "code",
   "execution_count": null,
   "metadata": {},
   "outputs": [],
   "source": [
    "metrics[metrics.is_categorical].dropna(axis=1, how='all').head(1).T.to_markdown()"
   ]
  },
  {
   "cell_type": "code",
   "execution_count": null,
   "metadata": {},
   "outputs": [],
   "source": [
    "len(metrics[~metrics.is_categorical].dropna(axis=1, how='all').columns)-1+len(metrics[metrics.is_categorical].dropna(axis=1, how='all').columns)-1"
   ]
  },
  {
   "cell_type": "markdown",
   "metadata": {},
   "source": [
    "## Scores"
   ]
  },
  {
   "cell_type": "code",
   "execution_count": null,
   "metadata": {},
   "outputs": [],
   "source": [
    "best_model = \"tddpm_mlp_21613\"\n",
    "second_best_model = \"smote-enc_21613\"\n",
    "avg = syn.scores[syn.scores[\"type\"] == \"avg\"]\n",
    "avg.sort_values(\"score\", ascending=False).loc[[\"tddpm_mlp_21613\",\"smote-enc_21613\",\"gaussiancopula_noise_21613\",\"tvae_21613\", \"tvae_noise_21613\",\"gaussiancopula_21613\",\"copulagan_noise_21613\",\"copulagan_21613\",\"ctgan_noise_21613\",\"ctgan_21613\"],[\"score\", \"DCR ST 5th\", \"DCR SH 5th\", \"DCR TH 5th\"]]\n",
    "#[\"tddpm_mlp_21613\",\"smote-enc_21613\",\"gaussiancopula_noise_21613\",\"tvae_21613\", \"tvae_noise_21613\",\"gaussiancopula_21613\",\"copulagan_noise_21613\",\"copulagan_21613\",\"ctgan_noise_21613\",\"ctgan_21613\"]"
   ]
  },
  {
   "cell_type": "code",
   "execution_count": null,
   "metadata": {},
   "outputs": [],
   "source": [
    "print(avg.sort_values(\"score\", ascending=False).loc[[\"tddpm_mlp_21613\",\"smote-enc_21613\",\"gaussiancopula_noise_21613\",\"tvae_21613\", \"tvae_noise_21613\",\"gaussiancopula_21613\",\"copulagan_noise_21613\",\"copulagan_21613\",\"ctgan_noise_21613\",\"ctgan_21613\"],[\"score\", \"DCR ST 5th\", \"DCR SH 5th\", \"DCR TH 5th\"]].style.to_latex().replace(\"_\", \"\\_\"))\n"
   ]
  },
  {
   "cell_type": "code",
   "execution_count": null,
   "metadata": {},
   "outputs": [],
   "source": [
    "syn.scores.type.unique()"
   ]
  },
  {
   "cell_type": "code",
   "execution_count": null,
   "metadata": {},
   "outputs": [],
   "source": [
    "print(syn.scores.sort_values(\"score\", ascending=False).loc[[\"tddpm_mlp_21613\",\"smote-enc_21613\",\"gaussiancopula_noise_21613\",\"tvae_21613\", \"tvae_noise_21613\",\"gaussiancopula_21613\",\"copulagan_noise_21613\",\"copulagan_21613\",\"ctgan_noise_21613\",\"ctgan_21613\"],[\"type\", \"score\"]].reset_index().pivot(index=\"name\", columns=[\"type\"],values=\"score\").sort_values(\"avg\", ascending=False).rename(columns={'avg':'Score'}).loc[:,[\"Synthesis\",\"Column Pair Trends\", \"Column Shapes\", \"Coverage\", \"Boundaries\", \"Score\"]].style.to_latex().replace(\"_\", \"\\_\"))\n",
    "# .style.to_latex()\n",
    "#syn.scores[syn.scores[\"type\"] != \"avg\"].sort_values(\"score\", ascending=False).loc[[\"tddpm_mlp_21613\",\"smote-enc_21613\"],[\"type\", \"score\", \"DCR ST 5th\", \"DCR SH 5th\", \"DCR TH 5th\"]]"
   ]
  },
  {
   "cell_type": "code",
   "execution_count": null,
   "metadata": {},
   "outputs": [],
   "source": [
    "from syntheticml.data.charts import Charts\n",
    "import os\n",
    "folder_path = f\"../docs/tesis/imagenes/kingcounty/{best_model}\"\n",
    "if not os.path.exists(folder_path):\n",
    "    os.mkdir(folder_path)\n",
    "for fig in syn.get_charts(best_model, {'date', 'id', 'zipcode', 'lat', 'long', 'yr_renovated'}):\n",
    "    if fig:\n",
    "        file_name = f'{fig.layout.title.text.replace(\":\",\"\").replace(\" \",\"_\").lower()}.svg'\n",
    "        fig.write_image(f\"{folder_path}/{file_name}\")\n",
    "        display(fig.show(\"png\"))"
   ]
  },
  {
   "cell_type": "code",
   "execution_count": null,
   "metadata": {},
   "outputs": [],
   "source": [
    "import os\n",
    "folder_path = f\"../docs/tesis/imagenes/kingcounty/top2+1\"\n",
    "if not os.path.exists(folder_path):\n",
    "    os.mkdir(folder_path)\n",
    "for fig in syn.get_multiple_charts([best_model,second_best_model,\"copulagan_21613\"], {'date', 'id', 'zipcode', 'lat', 'long', 'yr_renovated'}):\n",
    "    if fig:\n",
    "        file_name = f'{fig.layout.title.text.replace(\":\",\"\").replace(\" \",\"_\").lower()}.svg'\n",
    "        fig.write_image(f\"{folder_path}/{file_name}\")\n",
    "        display(fig.show(\"png\"))\n"
   ]
  },
  {
   "cell_type": "code",
   "execution_count": null,
   "metadata": {},
   "outputs": [],
   "source": [
    "from syntheticml.data.charts import Charts\n",
    "import os\n",
    "folder_path = f\"../docs/tesis/imagenes/kingcounty/{second_best_model}\"\n",
    "if not os.path.exists(folder_path):\n",
    "    os.mkdir(folder_path)\n",
    "for fig in syn.get_charts(second_best_model, {'date', 'id', 'zipcode', 'lat', 'long', 'yr_renovated'}):\n",
    "    if fig:\n",
    "        file_name = f'{fig.layout.title.text.replace(\":\",\"\").replace(\" \",\"_\").lower()}.svg'\n",
    "        fig.write_image(f\"{folder_path}/{file_name}\")\n",
    "        display(fig.show(\"png\"))"
   ]
  },
  {
   "cell_type": "code",
   "execution_count": null,
   "metadata": {},
   "outputs": [],
   "source": [
    "syn.charts.pair_corr(syn.df, syn.fake_data[best_model], {'id', 'waterfront', 'yr_renovated'}, \"price\").update_layout(dict(width=1000)).show(\"png\")"
   ]
  },
  {
   "cell_type": "code",
   "execution_count": null,
   "metadata": {},
   "outputs": [],
   "source": [
    "current_metrics = syn.current_metrics()\n",
    "fake_metrics = syn.get_metrics_fake()"
   ]
  },
  {
   "cell_type": "code",
   "execution_count": null,
   "metadata": {},
   "outputs": [],
   "source": [
    "columns = [\"bathrooms\", \"sqft_lot\", \"sqft_above\", \"price\", \"sqft_lot15\", \"sqft_living\", \"sqft_basement\", \"yr_built\", \"sqft_living15\", \"grade\"]"
   ]
  },
  {
   "cell_type": "code",
   "execution_count": null,
   "metadata": {},
   "outputs": [],
   "source": [
    "current_metrics.loc[(current_metrics.name.isin(columns) & current_metrics.is_categorical),:].dropna(axis=1, how='all')"
   ]
  },
  {
   "cell_type": "code",
   "execution_count": null,
   "metadata": {},
   "outputs": [],
   "source": [
    "models = [\"smote-enc_21613\", \"tddpm_mlp_21613\"]\n",
    "prop_cat = [\"name\", \"top5\", \"top5_prob\"]\n",
    "import numpy as np\n",
    "columns = list(current_metrics.name.unique())\n",
    "dfs = [\n",
    "    current_metrics.loc[(current_metrics.name.isin(columns) & current_metrics.is_categorical),prop_cat].dropna(axis=1, how='all').assign(model=\"Real\")\n",
    "]\n",
    "for model_name in models:\n",
    "    dfs.append(fake_metrics[model_name].loc[(fake_metrics[model_name].name.isin(columns) & fake_metrics[model_name].is_categorical),prop_cat].dropna(axis=1, how='all').assign(model=model_name))\n",
    "\n",
    "diffdf = pd.concat(dfs).sort_values([\"name\", \"model\"], ascending=[True, True]).loc[:, [\"model\", \"name\"] + prop_cat[1:]]\n",
    "\n",
    "\n",
    "for name in diffdf.name.unique():\n",
    "    #print(name)\n",
    "    #print(diffdf.loc[((diffdf.name == name) & (diffdf.model != \"Real\")) , [\"top5_prob\"]])\n",
    "    #print(diffdf.loc[((diffdf.name == name) & (diffdf.model == \"Real\")), [\"top5_prob\"]])\n",
    "    #diffdf.loc[((diffdf.name == name) & (diffdf.model != \"Real\")), [\"top5_prob\"]] = np.abs(diffdf.loc[((diffdf.name == name) & (diffdf.model != \"Real\")) , [\"top5_prob\"]].values\n",
    "    #    - diffdf.loc[((diffdf.name == name) & (diffdf.model == \"Real\")), [\"top5_prob\"]].values)\n",
    "    #print(\n",
    "    #    np.array(np.abs(diffdf.loc[((diffdf.name == name) & (diffdf.model != \"Real\")) , [\"top5_prob\"]].values\n",
    "    #    - diffdf.loc[((diffdf.name == name) & (diffdf.model == \"Real\")), [\"top5_prob\"]].values).tolist()).reshape(-1,5).sum(axis=1).reshape(-1,1)\n",
    "    #)\n",
    "\n",
    "    #diffdf.loc[((diffdf.name == name) & (diffdf.model != \"Real\")), [\"top5_prob\"]] = np.array(np.abs(diffdf.loc[((diffdf.name == name) & (diffdf.model != \"Real\")) , [\"top5_prob\"]].values\n",
    "    #    - diffdf.loc[((diffdf.name == name) & (diffdf.model == \"Real\")), [\"top5_prob\"]].values).tolist()).reshape(-1,5).sum(axis=1).reshape(-1,1)\n",
    "\n",
    "    #diffdf.loc[((diffdf.name == name) & (diffdf.model != \"Real\")), [\"top5_prob\"]] = np.array(np.abs(diffdf.loc[((diffdf.name == name) & (diffdf.model != \"Real\")) , [\"top5_prob\"]].values\n",
    "    #- diffdf.loc[((diffdf.name == name) & (diffdf.model == \"Real\")), [\"top5_prob\"]].values).tolist()).sum(axis=2)\n",
    "    pass\n",
    "diffdf\n",
    "#print(diffdf.style.to_latex().replace(\"_\", \"\\_\"))"
   ]
  },
  {
   "cell_type": "code",
   "execution_count": null,
   "metadata": {},
   "outputs": [],
   "source": [
    "models = [\"smote-enc_21613\", \"tddpm_mlp_21613\"]\n",
    "prop_cat = [\"name\", \"range\", \"min\", \"1.0%\", \"mean\", \"99.0%\", \"max\"]\n",
    "import numpy as np\n",
    "columns = list(current_metrics.name.unique())\n",
    "dfs = [\n",
    "    current_metrics.loc[(current_metrics.name.isin(columns) & ~current_metrics.is_categorical),prop_cat].dropna(axis=1, how='all').assign(model=\"Real\")\n",
    "]\n",
    "for model_name in models:\n",
    "    dfs.append(fake_metrics[model_name].loc[(fake_metrics[model_name].name.isin(columns) & ~fake_metrics[model_name].is_categorical),prop_cat].dropna(axis=1, how='all').assign(model=model_name))\n",
    "\n",
    "diffdf = pd.concat(dfs).sort_values([\"name\", \"model\"], ascending=[True, True]).loc[:, [\"model\", \"name\"] + prop_cat[1:]]\n",
    "diffdf"
   ]
  },
  {
   "cell_type": "code",
   "execution_count": null,
   "metadata": {},
   "outputs": [],
   "source": [
    "k = syn.get_details()"
   ]
  },
  {
   "cell_type": "code",
   "execution_count": null,
   "metadata": {},
   "outputs": [],
   "source": [
    "k.keys()"
   ]
  },
  {
   "cell_type": "code",
   "execution_count": null,
   "metadata": {},
   "outputs": [],
   "source": [
    "k['smote-enc_21613']['report']['column_pair_trends']\n",
    "#k['smote-enc_21613']['report']['column_shape']"
   ]
  },
  {
   "cell_type": "code",
   "execution_count": null,
   "metadata": {},
   "outputs": [],
   "source": [
    "pd.concat(\n",
    "    [k[model_name]['report']['column_pair_trends'].loc[:,[\"Column 1\", \"Quality Score\"]].groupby(\"Column 1\").mean(numeric_only=True).assign(model=model_name) for model_name in models]\n",
    ").reset_index().pivot(index=[\"Column 1\"], values=\"Quality Score\", columns=\"model\").sort_values(\"smote-enc_21613\", ascending=False)"
   ]
  },
  {
   "cell_type": "code",
   "execution_count": null,
   "metadata": {},
   "outputs": [],
   "source": [
    "display(\n",
    "    pd.concat(\n",
    "    [k[model_name]['report']['column_shape'].assign(model=model_name) for model_name in models]\n",
    ").pivot(index=[\"Column\",\"Metric\"], values=\"Quality Score\", columns=\"model\").sort_values(\"smote-enc_21613\", ascending=False)\n",
    "#.style.to_latex().replace(\"_\", \"\\_\")\n",
    ")"
   ]
  },
  {
   "cell_type": "code",
   "execution_count": null,
   "metadata": {},
   "outputs": [],
   "source": [
    "display(\n",
    "    pd.concat(\n",
    "    [k[model_name]['diagnostic']['coverage'].assign(model=model_name) for model_name in models]\n",
    ").pivot(index=[\"Column\",\"Metric\"], values=\"Diagnostic Score\", columns=\"model\").sort_values(\"smote-enc_21613\", ascending=False)\n",
    "#.style.to_latex().replace(\"_\", \"\\_\")\n",
    ")"
   ]
  },
  {
   "cell_type": "code",
   "execution_count": null,
   "metadata": {},
   "outputs": [],
   "source": [
    "list(k.keys())"
   ]
  },
  {
   "cell_type": "code",
   "execution_count": null,
   "metadata": {},
   "outputs": [],
   "source": [
    "pair_trends = k['smote-enc_21613']['report']['column_pair_trends']\n",
    "pair_trends[pair_trends['Column 1'] == \"price\"]"
   ]
  }
 ],
 "metadata": {
  "kernelspec": {
   "display_name": "Python 3.9.15 64-bit ('syn')",
   "language": "python",
   "name": "python3"
  },
  "language_info": {
   "codemirror_mode": {
    "name": "ipython",
    "version": 3
   },
   "file_extension": ".py",
   "mimetype": "text/x-python",
   "name": "python",
   "nbconvert_exporter": "python",
   "pygments_lexer": "ipython3",
   "version": "3.9.15"
  },
  "orig_nbformat": 4,
  "vscode": {
   "interpreter": {
    "hash": "339c1ec44efa671d0c0aa472f92368e3220a4c3534888d9daac06fdbcd7c45f1"
   }
  }
 },
 "nbformat": 4,
 "nbformat_minor": 2
}
