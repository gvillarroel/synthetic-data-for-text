{
 "cells": [
  {
   "cell_type": "markdown",
   "metadata": {},
   "source": [
    "# King County"
   ]
  },
  {
   "cell_type": "code",
   "execution_count": 1,
   "metadata": {},
   "outputs": [],
   "source": [
    "%%capture\n",
    "import sys\n",
    "!ln -s ../syntheticml .\n",
    "!{sys.executable} -m pip install -r ../requirements.txt\n",
    "!{sys.executable} -m pip install -U kaleido\n",
    "!{sys.executable} -m pip install git+https://github.com/mostly-ai/virtualdatalab.git"
   ]
  },
  {
   "cell_type": "code",
   "execution_count": 2,
   "metadata": {},
   "outputs": [
    {
     "data": {
      "text/html": [
       "<div>\n",
       "<style scoped>\n",
       "    .dataframe tbody tr th:only-of-type {\n",
       "        vertical-align: middle;\n",
       "    }\n",
       "\n",
       "    .dataframe tbody tr th {\n",
       "        vertical-align: top;\n",
       "    }\n",
       "\n",
       "    .dataframe thead th {\n",
       "        text-align: right;\n",
       "    }\n",
       "</style>\n",
       "<table border=\"1\" class=\"dataframe\">\n",
       "  <thead>\n",
       "    <tr style=\"text-align: right;\">\n",
       "      <th></th>\n",
       "      <th>id</th>\n",
       "      <th>date</th>\n",
       "      <th>price</th>\n",
       "      <th>bedrooms</th>\n",
       "      <th>bathrooms</th>\n",
       "      <th>sqft_living</th>\n",
       "      <th>sqft_lot</th>\n",
       "      <th>floors</th>\n",
       "      <th>waterfront</th>\n",
       "      <th>view</th>\n",
       "      <th>...</th>\n",
       "      <th>grade</th>\n",
       "      <th>sqft_above</th>\n",
       "      <th>sqft_basement</th>\n",
       "      <th>yr_built</th>\n",
       "      <th>yr_renovated</th>\n",
       "      <th>zipcode</th>\n",
       "      <th>lat</th>\n",
       "      <th>long</th>\n",
       "      <th>sqft_living15</th>\n",
       "      <th>sqft_lot15</th>\n",
       "    </tr>\n",
       "  </thead>\n",
       "  <tbody>\n",
       "    <tr>\n",
       "      <th>1154</th>\n",
       "      <td>7880010060</td>\n",
       "      <td>20150406T000000</td>\n",
       "      <td>699000.0</td>\n",
       "      <td>4</td>\n",
       "      <td>2.5</td>\n",
       "      <td>3230</td>\n",
       "      <td>40319</td>\n",
       "      <td>2.0</td>\n",
       "      <td>0</td>\n",
       "      <td>0</td>\n",
       "      <td>...</td>\n",
       "      <td>10</td>\n",
       "      <td>3230</td>\n",
       "      <td>0</td>\n",
       "      <td>1987</td>\n",
       "      <td>0</td>\n",
       "      <td>98027</td>\n",
       "      <td>47.4856</td>\n",
       "      <td>-122.069</td>\n",
       "      <td>2990</td>\n",
       "      <td>40234</td>\n",
       "    </tr>\n",
       "    <tr>\n",
       "      <th>3880</th>\n",
       "      <td>7774200236</td>\n",
       "      <td>20141211T000000</td>\n",
       "      <td>357000.0</td>\n",
       "      <td>3</td>\n",
       "      <td>1.5</td>\n",
       "      <td>1340</td>\n",
       "      <td>11744</td>\n",
       "      <td>1.0</td>\n",
       "      <td>0</td>\n",
       "      <td>0</td>\n",
       "      <td>...</td>\n",
       "      <td>7</td>\n",
       "      <td>1340</td>\n",
       "      <td>0</td>\n",
       "      <td>1950</td>\n",
       "      <td>0</td>\n",
       "      <td>98146</td>\n",
       "      <td>47.4947</td>\n",
       "      <td>-122.360</td>\n",
       "      <td>2020</td>\n",
       "      <td>13673</td>\n",
       "    </tr>\n",
       "    <tr>\n",
       "      <th>590</th>\n",
       "      <td>2525069041</td>\n",
       "      <td>20140904T000000</td>\n",
       "      <td>505000.0</td>\n",
       "      <td>3</td>\n",
       "      <td>1.5</td>\n",
       "      <td>1830</td>\n",
       "      <td>217800</td>\n",
       "      <td>1.0</td>\n",
       "      <td>0</td>\n",
       "      <td>0</td>\n",
       "      <td>...</td>\n",
       "      <td>7</td>\n",
       "      <td>1010</td>\n",
       "      <td>820</td>\n",
       "      <td>1981</td>\n",
       "      <td>0</td>\n",
       "      <td>98053</td>\n",
       "      <td>47.6277</td>\n",
       "      <td>-121.972</td>\n",
       "      <td>2450</td>\n",
       "      <td>165963</td>\n",
       "    </tr>\n",
       "  </tbody>\n",
       "</table>\n",
       "<p>3 rows × 21 columns</p>\n",
       "</div>"
      ],
      "text/plain": [
       "              id             date     price  bedrooms  bathrooms  sqft_living  \\\n",
       "1154  7880010060  20150406T000000  699000.0         4        2.5         3230   \n",
       "3880  7774200236  20141211T000000  357000.0         3        1.5         1340   \n",
       "590   2525069041  20140904T000000  505000.0         3        1.5         1830   \n",
       "\n",
       "      sqft_lot  floors  waterfront  view  ...  grade  sqft_above  \\\n",
       "1154     40319     2.0           0     0  ...     10        3230   \n",
       "3880     11744     1.0           0     0  ...      7        1340   \n",
       "590     217800     1.0           0     0  ...      7        1010   \n",
       "\n",
       "      sqft_basement  yr_built  yr_renovated  zipcode      lat     long  \\\n",
       "1154              0      1987             0    98027  47.4856 -122.069   \n",
       "3880              0      1950             0    98146  47.4947 -122.360   \n",
       "590             820      1981             0    98053  47.6277 -121.972   \n",
       "\n",
       "      sqft_living15  sqft_lot15  \n",
       "1154           2990       40234  \n",
       "3880           2020       13673  \n",
       "590            2450      165963  \n",
       "\n",
       "[3 rows x 21 columns]"
      ]
     },
     "execution_count": 2,
     "metadata": {},
     "output_type": "execute_result"
    }
   ],
   "source": [
    "import pandas as pd\n",
    "df = pd.read_csv('../datasets/kingcounty/raw/kc_house_data.csv');\n",
    "df.sample(3)"
   ]
  },
  {
   "cell_type": "code",
   "execution_count": 3,
   "metadata": {},
   "outputs": [],
   "source": [
    "%%capture\n",
    "from syntheticml.data.synthetic import Synthetic, MODELS\n",
    "syn = Synthetic(df,\n",
    "                    id=\"id\",\n",
    "                    #category_columns=(\"condition\", \"floors\", \"grade\", \"view\", \"waterfront\", \"yr_built\", \"yr_renovated\", \"zipcode\", \"bathrooms\", \"bedrooms\",),\n",
    "                    category_columns=(\"condition\", \"floors\", \"grade\", \"view\",\n",
    "                                      \"waterfront\", \"zipcode\", \"bathrooms\", \"bedrooms\",),\n",
    "                    synthetic_folder=\"../datasets/kingcounty/synth\",\n",
    "                    models=MODELS.keys(),\n",
    "                    n_sample=21613,\n",
    "                    max_cpu_pool=1,\n",
    "                    target_column=\"price\"\n",
    "                    )"
   ]
  },
  {
   "cell_type": "code",
   "execution_count": 4,
   "metadata": {},
   "outputs": [
    {
     "ename": "AttributeError",
     "evalue": "Can't get attribute 'CTGANSynthesizer' on <module 'ctgan.synthesizers.ctgan' from '/home/gvillarroel/.pyenv/versions/3.9.15/envs/syn/lib/python3.9/site-packages/ctgan/synthesizers/ctgan.py'>",
     "output_type": "error",
     "traceback": [
      "\u001b[0;31m---------------------------------------------------------------------------\u001b[0m",
      "\u001b[0;31mAttributeError\u001b[0m                            Traceback (most recent call last)",
      "\u001b[1;32m/home/gvillarroel/dev/synthetic-data-for-text/notebooks/kingcounty.ipynb Cell 5\u001b[0m in \u001b[0;36m1\n\u001b[0;32m----> <a href='vscode-notebook-cell:/home/gvillarroel/dev/synthetic-data-for-text/notebooks/kingcounty.ipynb#W4sZmlsZQ%3D%3D?line=0'>1</a>\u001b[0m syn\u001b[39m.\u001b[39;49mprocess()\n\u001b[1;32m      <a href='vscode-notebook-cell:/home/gvillarroel/dev/synthetic-data-for-text/notebooks/kingcounty.ipynb#W4sZmlsZQ%3D%3D?line=2'>3</a>\u001b[0m syn\u001b[39m.\u001b[39mprocess_scores()\n",
      "File \u001b[0;32m~/dev/synthetic-data-for-text/notebooks/syntheticml/data/synthetic.py:264\u001b[0m, in \u001b[0;36mSynthetic.process\u001b[0;34m(self, remaining_columns, additional_parameters)\u001b[0m\n\u001b[1;32m    262\u001b[0m \u001b[39mdef\u001b[39;00m \u001b[39mprocess\u001b[39m(\u001b[39mself\u001b[39m, remaining_columns\u001b[39m=\u001b[39m\u001b[39mNone\u001b[39;00m, additional_parameters\u001b[39m=\u001b[39m{}) \u001b[39m-\u001b[39m\u001b[39m>\u001b[39m \u001b[39mNone\u001b[39;00m:\n\u001b[1;32m    263\u001b[0m     \u001b[39mself\u001b[39m\u001b[39m.\u001b[39mfake_data \u001b[39m=\u001b[39m \u001b[39mdict\u001b[39m(\n\u001b[0;32m--> 264\u001b[0m         \u001b[39m*\u001b[39m\u001b[39m*\u001b[39m\u001b[39mself\u001b[39m\u001b[39m.\u001b[39mfake_data, \u001b[39m*\u001b[39m\u001b[39m*\u001b[39m\u001b[39mself\u001b[39;49m\u001b[39m.\u001b[39;49m_gen_synthetic(remaining_columns, additional_parameters))\n\u001b[1;32m    265\u001b[0m     \u001b[39m# Quito elementos que hayan generado 0 data\u001b[39;00m\n\u001b[1;32m    266\u001b[0m     iters \u001b[39m=\u001b[39m \u001b[39mlist\u001b[39m(\u001b[39mself\u001b[39m\u001b[39m.\u001b[39mfake_data\u001b[39m.\u001b[39mitems())\n",
      "File \u001b[0;32m~/dev/synthetic-data-for-text/notebooks/syntheticml/data/synthetic.py:254\u001b[0m, in \u001b[0;36mSynthetic._gen_synthetic\u001b[0;34m(self, remaining_columns, additional_parameters)\u001b[0m\n\u001b[1;32m    251\u001b[0m         data_gen \u001b[39m=\u001b[39m \u001b[39mdict\u001b[39m(p\u001b[39m.\u001b[39mmap(pw, [(fn_model_name(\n\u001b[1;32m    252\u001b[0m             model_name), model_name, model,) \u001b[39mfor\u001b[39;00m model_name, model \u001b[39min\u001b[39;00m models\u001b[39m.\u001b[39mitems()]))\n\u001b[1;32m    253\u001b[0m \u001b[39melse\u001b[39;00m:\n\u001b[0;32m--> 254\u001b[0m     data_gen \u001b[39m=\u001b[39m \u001b[39mdict\u001b[39m(\u001b[39mlist\u001b[39;49m(\u001b[39mmap\u001b[39;49m(pw, [(fn_model_name(\n\u001b[1;32m    255\u001b[0m             model_name), model_name, model,) \u001b[39mfor\u001b[39;49;00m model_name, model \u001b[39min\u001b[39;49;00m models\u001b[39m.\u001b[39;49mitems()])))\n\u001b[1;32m    257\u001b[0m \u001b[39mreturn\u001b[39;00m data_gen\n",
      "File \u001b[0;32m~/dev/synthetic-data-for-text/notebooks/syntheticml/data/synthetic.py:61\u001b[0m, in \u001b[0;36mparallel_syn\u001b[0;34m(params, df, syntheticdata_folder, n_sample, remaining_columns, additional_parameters)\u001b[0m\n\u001b[1;32m     58\u001b[0m \u001b[39mprint\u001b[39m(\u001b[39m\"\u001b[39m\u001b[39m=\u001b[39m\u001b[39m\"\u001b[39m\u001b[39m*\u001b[39m\u001b[39m30\u001b[39m)\n\u001b[1;32m     59\u001b[0m \u001b[39mprint\u001b[39m(\u001b[39mf\u001b[39m\u001b[39m\"\u001b[39m\u001b[39mStarting to generate data with model in:\u001b[39m\u001b[39m{\u001b[39;00mmodel_checkpoint\u001b[39m}\u001b[39;00m\u001b[39m\"\u001b[39m)\n\u001b[0;32m---> 61\u001b[0m model \u001b[39m=\u001b[39m model\u001b[39m.\u001b[39;49mload(model_checkpoint)\n\u001b[1;32m     62\u001b[0m syndata_path \u001b[39m=\u001b[39m \u001b[39mf\u001b[39m\u001b[39m\"\u001b[39m\u001b[39m{\u001b[39;00msyntheticdata_folder\u001b[39m}\u001b[39;00m\u001b[39m/\u001b[39m\u001b[39m{\u001b[39;00mfile_name\u001b[39m}\u001b[39;00m\u001b[39m.parquet\u001b[39m\u001b[39m\"\u001b[39m\n\u001b[1;32m     63\u001b[0m p \u001b[39m=\u001b[39m {}\n",
      "File \u001b[0;32m~/.pyenv/versions/3.9.15/envs/syn/lib/python3.9/site-packages/sdv/tabular/base.py:891\u001b[0m, in \u001b[0;36mBaseTabularModel.load\u001b[0;34m(cls, path)\u001b[0m\n\u001b[1;32m    880\u001b[0m \u001b[39m\"\"\"Load a TabularModel instance from a given path.\u001b[39;00m\n\u001b[1;32m    881\u001b[0m \n\u001b[1;32m    882\u001b[0m \u001b[39mArgs:\u001b[39;00m\n\u001b[0;32m   (...)\u001b[0m\n\u001b[1;32m    888\u001b[0m \u001b[39m        The loaded tabular model.\u001b[39;00m\n\u001b[1;32m    889\u001b[0m \u001b[39m\"\"\"\u001b[39;00m\n\u001b[1;32m    890\u001b[0m \u001b[39mwith\u001b[39;00m \u001b[39mopen\u001b[39m(path, \u001b[39m'\u001b[39m\u001b[39mrb\u001b[39m\u001b[39m'\u001b[39m) \u001b[39mas\u001b[39;00m f:\n\u001b[0;32m--> 891\u001b[0m     model \u001b[39m=\u001b[39m cloudpickle\u001b[39m.\u001b[39;49mload(f)\n\u001b[1;32m    892\u001b[0m     throw_version_mismatch_warning(\u001b[39mgetattr\u001b[39m(model, \u001b[39m'\u001b[39m\u001b[39m_package_versions\u001b[39m\u001b[39m'\u001b[39m, \u001b[39mNone\u001b[39;00m))\n\u001b[1;32m    894\u001b[0m     \u001b[39mreturn\u001b[39;00m model\n",
      "\u001b[0;31mAttributeError\u001b[0m: Can't get attribute 'CTGANSynthesizer' on <module 'ctgan.synthesizers.ctgan' from '/home/gvillarroel/.pyenv/versions/3.9.15/envs/syn/lib/python3.9/site-packages/ctgan/synthesizers/ctgan.py'>"
     ]
    },
    {
     "ename": "",
     "evalue": "",
     "output_type": "error",
     "traceback": [
      "\u001b[1;31mThe Kernel crashed while executing code in the the current cell or a previous cell. Please review the code in the cell(s) to identify a possible cause of the failure. Click <a href='https://aka.ms/vscodeJupyterKernelCrash'>here</a> for more info. View Jupyter <a href='command:jupyter.viewOutput'>log</a> for further details."
     ]
    }
   ],
   "source": [
    "%%capture  --no-display\n",
    "syn.process()\n",
    "\n",
    "syn.process_scores()\n"
   ]
  },
  {
   "cell_type": "markdown",
   "metadata": {},
   "source": [
    "## Metricas\n",
    "### Continuas"
   ]
  },
  {
   "cell_type": "code",
   "execution_count": null,
   "metadata": {},
   "outputs": [],
   "source": [
    "metrics = syn.current_metrics()\n",
    "metrics[~metrics.is_categorical].dropna(axis=1, how='all')"
   ]
  },
  {
   "cell_type": "code",
   "execution_count": null,
   "metadata": {},
   "outputs": [],
   "source": [
    "print(metrics[~metrics.is_categorical].dropna(axis=1, how='all').head(1).T\n",
    "      #.style.to_latex()\n",
    "      )"
   ]
  },
  {
   "cell_type": "markdown",
   "metadata": {},
   "source": [
    "### Categoricas"
   ]
  },
  {
   "cell_type": "code",
   "execution_count": null,
   "metadata": {},
   "outputs": [],
   "source": [
    "metrics[metrics.is_categorical].dropna(axis=1, how='all').head(1).T.to_markdown()"
   ]
  },
  {
   "cell_type": "code",
   "execution_count": null,
   "metadata": {},
   "outputs": [],
   "source": [
    "len(metrics[~metrics.is_categorical].dropna(axis=1, how='all').columns)-1+len(metrics[metrics.is_categorical].dropna(axis=1, how='all').columns)-1"
   ]
  },
  {
   "cell_type": "markdown",
   "metadata": {},
   "source": [
    "## Scores"
   ]
  },
  {
   "cell_type": "code",
   "execution_count": null,
   "metadata": {},
   "outputs": [],
   "source": [
    "best_model = \"tddpm_mlp_21613\"\n",
    "second_best_model = \"smote-enc_21613\"\n",
    "avg = syn.scores[syn.scores[\"type\"] == \"avg\"]\n",
    "avg.sort_values(\"score\", ascending=False).loc[[\"tddpm_mlp_21613\",\"smote-enc_21613\",\"gaussiancopula_noise_21613\",\"tvae_21613\", \"tvae_noise_21613\",\"gaussiancopula_21613\",\"copulagan_noise_21613\",\"copulagan_21613\",\"ctgan_noise_21613\",\"ctgan_21613\"],[\"score\", \"DCR ST 5th\", \"DCR SH 5th\", \"DCR TH 5th\"]]\n",
    "#[\"tddpm_mlp_21613\",\"smote-enc_21613\",\"gaussiancopula_noise_21613\",\"tvae_21613\", \"tvae_noise_21613\",\"gaussiancopula_21613\",\"copulagan_noise_21613\",\"copulagan_21613\",\"ctgan_noise_21613\",\"ctgan_21613\"]"
   ]
  },
  {
   "cell_type": "code",
   "execution_count": null,
   "metadata": {},
   "outputs": [],
   "source": [
    "print(avg.sort_values(\"score\", ascending=False).loc[[\"tddpm_mlp_21613\",\"smote-enc_21613\",\"gaussiancopula_noise_21613\",\"tvae_21613\", \"tvae_noise_21613\",\"gaussiancopula_21613\",\"copulagan_noise_21613\",\"copulagan_21613\",\"ctgan_noise_21613\",\"ctgan_21613\"],[\"score\", \"DCR ST 5th\", \"DCR SH 5th\", \"DCR TH 5th\"]].style.to_latex().replace(\"_\", \"\\_\"))\n"
   ]
  },
  {
   "cell_type": "code",
   "execution_count": null,
   "metadata": {},
   "outputs": [],
   "source": [
    "syn.scores.type.unique()"
   ]
  },
  {
   "cell_type": "code",
   "execution_count": null,
   "metadata": {},
   "outputs": [],
   "source": [
    "print(syn.scores.sort_values(\"score\", ascending=False).loc[[\"tddpm_mlp_21613\",\"smote-enc_21613\",\"gaussiancopula_noise_21613\",\"tvae_21613\", \"tvae_noise_21613\",\"gaussiancopula_21613\",\"copulagan_noise_21613\",\"copulagan_21613\",\"ctgan_noise_21613\",\"ctgan_21613\"],[\"type\", \"score\"]].reset_index().pivot(index=\"name\", columns=[\"type\"],values=\"score\").sort_values(\"avg\", ascending=False).rename(columns={'avg':'Score'}).loc[:,[\"Synthesis\",\"Column Pair Trends\", \"Column Shapes\", \"Coverage\", \"Boundaries\", \"Score\"]].style.to_latex().replace(\"_\", \"\\_\"))\n",
    "# .style.to_latex()\n",
    "#syn.scores[syn.scores[\"type\"] != \"avg\"].sort_values(\"score\", ascending=False).loc[[\"tddpm_mlp_21613\",\"smote-enc_21613\"],[\"type\", \"score\", \"DCR ST 5th\", \"DCR SH 5th\", \"DCR TH 5th\"]]"
   ]
  },
  {
   "cell_type": "code",
   "execution_count": null,
   "metadata": {},
   "outputs": [],
   "source": [
    "from syntheticml.data.charts import Charts\n",
    "import os\n",
    "folder_path = f\"../docs/tesis/imagenes/kingcounty/{best_model}\"\n",
    "if not os.path.exists(folder_path):\n",
    "    os.mkdir(folder_path)\n",
    "for fig in syn.get_charts(best_model, {'date', 'id', 'zipcode', 'lat', 'long', 'yr_renovated'}):\n",
    "    if fig:\n",
    "        file_name = f'{fig.layout.title.text.replace(\":\",\"\").replace(\" \",\"_\").lower()}.svg'\n",
    "        fig.write_image(f\"{folder_path}/{file_name}\")\n",
    "        display(fig.show(\"png\"))"
   ]
  },
  {
   "cell_type": "code",
   "execution_count": null,
   "metadata": {},
   "outputs": [],
   "source": [
    "import os\n",
    "folder_path = f\"../docs/tesis/imagenes/kingcounty/top2+1\"\n",
    "if not os.path.exists(folder_path):\n",
    "    os.mkdir(folder_path)\n",
    "for fig in syn.get_multiple_charts([best_model,second_best_model,\"copulagan_21613\"], {'date', 'id', 'zipcode', 'lat', 'long', 'yr_renovated'}):\n",
    "    if fig:\n",
    "        file_name = f'{fig.layout.title.text.replace(\":\",\"\").replace(\" \",\"_\").lower()}.svg'\n",
    "        fig.write_image(f\"{folder_path}/{file_name}\")\n",
    "        display(fig.show(\"png\"))\n"
   ]
  },
  {
   "cell_type": "code",
   "execution_count": null,
   "metadata": {},
   "outputs": [],
   "source": [
    "from syntheticml.data.charts import Charts\n",
    "import os\n",
    "folder_path = f\"../docs/tesis/imagenes/kingcounty/{second_best_model}\"\n",
    "if not os.path.exists(folder_path):\n",
    "    os.mkdir(folder_path)\n",
    "for fig in syn.get_charts(second_best_model, {'date', 'id', 'zipcode', 'lat', 'long', 'yr_renovated'}):\n",
    "    if fig:\n",
    "        file_name = f'{fig.layout.title.text.replace(\":\",\"\").replace(\" \",\"_\").lower()}.svg'\n",
    "        fig.write_image(f\"{folder_path}/{file_name}\")\n",
    "        display(fig.show(\"png\"))"
   ]
  },
  {
   "cell_type": "code",
   "execution_count": null,
   "metadata": {},
   "outputs": [],
   "source": [
    "syn.charts.pair_corr(syn.df, syn.fake_data[best_model], {'id', 'waterfront', 'yr_renovated'}, \"price\").update_layout(dict(width=1000)).show(\"png\")"
   ]
  },
  {
   "cell_type": "code",
   "execution_count": null,
   "metadata": {},
   "outputs": [],
   "source": [
    "current_metrics = syn.current_metrics()\n",
    "fake_metrics = syn.get_metrics_fake()"
   ]
  },
  {
   "cell_type": "code",
   "execution_count": null,
   "metadata": {},
   "outputs": [],
   "source": [
    "columns = [\"bathrooms\", \"sqft_lot\", \"sqft_above\", \"price\", \"sqft_lot15\", \"sqft_living\", \"sqft_basement\", \"yr_built\", \"sqft_living15\", \"grade\"]"
   ]
  },
  {
   "cell_type": "code",
   "execution_count": null,
   "metadata": {},
   "outputs": [],
   "source": [
    "current_metrics.loc[(current_metrics.name.isin(columns) & current_metrics.is_categorical),:].dropna(axis=1, how='all')"
   ]
  },
  {
   "cell_type": "code",
   "execution_count": null,
   "metadata": {},
   "outputs": [],
   "source": [
    "models = [\"smote-enc_21613\", \"tddpm_mlp_21613\"]\n",
    "prop_cat = [\"name\", \"top5\", \"top5_prob\"]\n",
    "import numpy as np\n",
    "columns = list(current_metrics.name.unique())\n",
    "dfs = [\n",
    "    current_metrics.loc[(current_metrics.name.isin(columns) & current_metrics.is_categorical),prop_cat].dropna(axis=1, how='all').assign(model=\"Real\")\n",
    "]\n",
    "for model_name in models:\n",
    "    dfs.append(fake_metrics[model_name].loc[(fake_metrics[model_name].name.isin(columns) & fake_metrics[model_name].is_categorical),prop_cat].dropna(axis=1, how='all').assign(model=model_name))\n",
    "\n",
    "diffdf = pd.concat(dfs).sort_values([\"name\", \"model\"], ascending=[True, True]).loc[:, [\"model\", \"name\"] + prop_cat[1:]]\n",
    "\n",
    "\n",
    "for name in diffdf.name.unique():\n",
    "    #print(name)\n",
    "    #print(diffdf.loc[((diffdf.name == name) & (diffdf.model != \"Real\")) , [\"top5_prob\"]])\n",
    "    #print(diffdf.loc[((diffdf.name == name) & (diffdf.model == \"Real\")), [\"top5_prob\"]])\n",
    "    #diffdf.loc[((diffdf.name == name) & (diffdf.model != \"Real\")), [\"top5_prob\"]] = np.abs(diffdf.loc[((diffdf.name == name) & (diffdf.model != \"Real\")) , [\"top5_prob\"]].values\n",
    "    #    - diffdf.loc[((diffdf.name == name) & (diffdf.model == \"Real\")), [\"top5_prob\"]].values)\n",
    "    #print(\n",
    "    #    np.array(np.abs(diffdf.loc[((diffdf.name == name) & (diffdf.model != \"Real\")) , [\"top5_prob\"]].values\n",
    "    #    - diffdf.loc[((diffdf.name == name) & (diffdf.model == \"Real\")), [\"top5_prob\"]].values).tolist()).reshape(-1,5).sum(axis=1).reshape(-1,1)\n",
    "    #)\n",
    "\n",
    "    #diffdf.loc[((diffdf.name == name) & (diffdf.model != \"Real\")), [\"top5_prob\"]] = np.array(np.abs(diffdf.loc[((diffdf.name == name) & (diffdf.model != \"Real\")) , [\"top5_prob\"]].values\n",
    "    #    - diffdf.loc[((diffdf.name == name) & (diffdf.model == \"Real\")), [\"top5_prob\"]].values).tolist()).reshape(-1,5).sum(axis=1).reshape(-1,1)\n",
    "\n",
    "    #diffdf.loc[((diffdf.name == name) & (diffdf.model != \"Real\")), [\"top5_prob\"]] = np.array(np.abs(diffdf.loc[((diffdf.name == name) & (diffdf.model != \"Real\")) , [\"top5_prob\"]].values\n",
    "    #- diffdf.loc[((diffdf.name == name) & (diffdf.model == \"Real\")), [\"top5_prob\"]].values).tolist()).sum(axis=2)\n",
    "    pass\n",
    "diffdf\n",
    "#print(diffdf.style.to_latex().replace(\"_\", \"\\_\"))"
   ]
  },
  {
   "cell_type": "code",
   "execution_count": null,
   "metadata": {},
   "outputs": [],
   "source": [
    "models = [\"smote-enc_21613\", \"tddpm_mlp_21613\"]\n",
    "prop_cat = [\"name\", \"range\", \"min\", \"1.0%\", \"mean\", \"99.0%\", \"max\"]\n",
    "import numpy as np\n",
    "columns = list(current_metrics.name.unique())\n",
    "dfs = [\n",
    "    current_metrics.loc[(current_metrics.name.isin(columns) & ~current_metrics.is_categorical),prop_cat].dropna(axis=1, how='all').assign(model=\"Real\")\n",
    "]\n",
    "for model_name in models:\n",
    "    dfs.append(fake_metrics[model_name].loc[(fake_metrics[model_name].name.isin(columns) & ~fake_metrics[model_name].is_categorical),prop_cat].dropna(axis=1, how='all').assign(model=model_name))\n",
    "\n",
    "diffdf = pd.concat(dfs).sort_values([\"name\", \"model\"], ascending=[True, True]).loc[:, [\"model\", \"name\"] + prop_cat[1:]]\n",
    "diffdf"
   ]
  },
  {
   "cell_type": "code",
   "execution_count": null,
   "metadata": {},
   "outputs": [],
   "source": [
    "k = syn.get_details()"
   ]
  },
  {
   "cell_type": "code",
   "execution_count": null,
   "metadata": {},
   "outputs": [],
   "source": [
    "k.keys()"
   ]
  },
  {
   "cell_type": "code",
   "execution_count": null,
   "metadata": {},
   "outputs": [],
   "source": [
    "k['smote-enc_21613']['report']['column_pair_trends']\n",
    "#k['smote-enc_21613']['report']['column_shape']"
   ]
  },
  {
   "cell_type": "code",
   "execution_count": null,
   "metadata": {},
   "outputs": [],
   "source": [
    "pd.concat(\n",
    "    [k[model_name]['report']['column_pair_trends'].loc[:,[\"Column 1\", \"Quality Score\"]].groupby(\"Column 1\").mean(numeric_only=True).assign(model=model_name) for model_name in models]\n",
    ").reset_index().pivot(index=[\"Column 1\"], values=\"Quality Score\", columns=\"model\").sort_values(\"smote-enc_21613\", ascending=False)"
   ]
  },
  {
   "cell_type": "code",
   "execution_count": null,
   "metadata": {},
   "outputs": [],
   "source": [
    "display(\n",
    "    pd.concat(\n",
    "    [k[model_name]['report']['column_shape'].assign(model=model_name) for model_name in models]\n",
    ").pivot(index=[\"Column\",\"Metric\"], values=\"Quality Score\", columns=\"model\").sort_values(\"smote-enc_21613\", ascending=False)\n",
    "#.style.to_latex().replace(\"_\", \"\\_\")\n",
    ")"
   ]
  },
  {
   "cell_type": "code",
   "execution_count": null,
   "metadata": {},
   "outputs": [],
   "source": [
    "display(\n",
    "    pd.concat(\n",
    "    [k[model_name]['diagnostic']['coverage'].assign(model=model_name) for model_name in models]\n",
    ").pivot(index=[\"Column\",\"Metric\"], values=\"Diagnostic Score\", columns=\"model\").sort_values(\"smote-enc_21613\", ascending=False)\n",
    "#.style.to_latex().replace(\"_\", \"\\_\")\n",
    ")"
   ]
  },
  {
   "cell_type": "code",
   "execution_count": null,
   "metadata": {},
   "outputs": [],
   "source": [
    "list(k.keys())"
   ]
  },
  {
   "cell_type": "code",
   "execution_count": null,
   "metadata": {},
   "outputs": [],
   "source": [
    "pair_trends = k['smote-enc_21613']['report']['column_pair_trends']\n",
    "pair_trends[pair_trends['Column 1'] == \"price\"]"
   ]
  }
 ],
 "metadata": {
  "kernelspec": {
   "display_name": "Python 3.9.15 64-bit ('syn')",
   "language": "python",
   "name": "python3"
  },
  "language_info": {
   "codemirror_mode": {
    "name": "ipython",
    "version": 3
   },
   "file_extension": ".py",
   "mimetype": "text/x-python",
   "name": "python",
   "nbconvert_exporter": "python",
   "pygments_lexer": "ipython3",
   "version": "3.9.15"
  },
  "orig_nbformat": 4,
  "vscode": {
   "interpreter": {
    "hash": "339c1ec44efa671d0c0aa472f92368e3220a4c3534888d9daac06fdbcd7c45f1"
   }
  }
 },
 "nbformat": 4,
 "nbformat_minor": 2
}
