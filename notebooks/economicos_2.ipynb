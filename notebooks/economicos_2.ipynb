{
 "cells": [
  {
   "cell_type": "markdown",
   "metadata": {},
   "source": [
    "# Economicos"
   ]
  },
  {
   "cell_type": "code",
   "execution_count": 1,
   "metadata": {},
   "outputs": [],
   "source": [
    "%%capture\n",
    "import sys\n",
    "!ln -s ../syntheticml .\n",
    "!{sys.executable} -m pip install -U -r ../requirements.txt\n",
    "!{sys.executable} -m pip install -U kaleido"
   ]
  },
  {
   "cell_type": "code",
   "execution_count": 2,
   "metadata": {},
   "outputs": [
    {
     "data": {
      "text/html": [
       "<div>\n",
       "<style scoped>\n",
       "    .dataframe tbody tr th:only-of-type {\n",
       "        vertical-align: middle;\n",
       "    }\n",
       "\n",
       "    .dataframe tbody tr th {\n",
       "        vertical-align: top;\n",
       "    }\n",
       "\n",
       "    .dataframe thead th {\n",
       "        text-align: right;\n",
       "    }\n",
       "</style>\n",
       "<table border=\"1\" class=\"dataframe\">\n",
       "  <thead>\n",
       "    <tr style=\"text-align: right;\">\n",
       "      <th></th>\n",
       "      <th>url</th>\n",
       "      <th>description</th>\n",
       "      <th>price</th>\n",
       "      <th>property_type</th>\n",
       "      <th>transaction_type</th>\n",
       "      <th>state</th>\n",
       "      <th>county</th>\n",
       "      <th>publication_date</th>\n",
       "      <th>rooms</th>\n",
       "      <th>bathrooms</th>\n",
       "      <th>m_built</th>\n",
       "      <th>m_size</th>\n",
       "      <th>source</th>\n",
       "      <th>title</th>\n",
       "      <th>address</th>\n",
       "      <th>owner</th>\n",
       "      <th>_price</th>\n",
       "    </tr>\n",
       "  </thead>\n",
       "  <tbody>\n",
       "    <tr>\n",
       "      <th>613115</th>\n",
       "      <td>https://www.economicos.cl/propiedades/se-vende...</td>\n",
       "      <td>Se vende terreno de 3000 mt2 en la comuna del ...</td>\n",
       "      <td>$ 45.000.000</td>\n",
       "      <td>Sitio o Terreno</td>\n",
       "      <td>Venta</td>\n",
       "      <td>Valparaíso</td>\n",
       "      <td>El Tabo</td>\n",
       "      <td>2019-12-06 11:55:30</td>\n",
       "      <td>NaN</td>\n",
       "      <td>NaN</td>\n",
       "      <td>NaN</td>\n",
       "      <td>3000.0</td>\n",
       "      <td>None</td>\n",
       "      <td>Se vende terreno, en el Tabo</td>\n",
       "      <td>Se vende terreno de 3000 mt2 en la comuna del ...</td>\n",
       "      <td>Daniela Muñoz</td>\n",
       "      <td>1591.94322</td>\n",
       "    </tr>\n",
       "    <tr>\n",
       "      <th>130347</th>\n",
       "      <td>https://www.economicos.cl/propiedades/arriendo...</td>\n",
       "      <td>Arriendo Departamento Amoblado Full a pasos de...</td>\n",
       "      <td>$ 400.000</td>\n",
       "      <td>Departamento Amoblado</td>\n",
       "      <td>Arriendo</td>\n",
       "      <td>Tarapacá</td>\n",
       "      <td>Iquique</td>\n",
       "      <td>2019-11-06 13:30:38</td>\n",
       "      <td>1.0</td>\n",
       "      <td>1.0</td>\n",
       "      <td>NaN</td>\n",
       "      <td>NaN</td>\n",
       "      <td>None</td>\n",
       "      <td>None</td>\n",
       "      <td>None</td>\n",
       "      <td>None</td>\n",
       "      <td>14.25245</td>\n",
       "    </tr>\n",
       "    <tr>\n",
       "      <th>529874</th>\n",
       "      <td>https://www.economicos.cl/propiedades/local-o-...</td>\n",
       "      <td>Oficinas Workspaces Solutions Fernandez Luco (...</td>\n",
       "      <td>89 UF</td>\n",
       "      <td>Local o Casa comercial</td>\n",
       "      <td>Arriendo</td>\n",
       "      <td>Metropolitana de Santiago</td>\n",
       "      <td>Vitacura</td>\n",
       "      <td>2022-02-23 00:00:08</td>\n",
       "      <td>NaN</td>\n",
       "      <td>2.0</td>\n",
       "      <td>158.0</td>\n",
       "      <td>NaN</td>\n",
       "      <td>El Mercurio</td>\n",
       "      <td>Local o Casa comercial en Arriendo en Vitacura...</td>\n",
       "      <td>Kennedy Lateral // Luis Carrera Vitacura, Metr...</td>\n",
       "      <td>Nexxos</td>\n",
       "      <td>89.00000</td>\n",
       "    </tr>\n",
       "  </tbody>\n",
       "</table>\n",
       "</div>"
      ],
      "text/plain": [
       "                                                      url  \\\n",
       "613115  https://www.economicos.cl/propiedades/se-vende...   \n",
       "130347  https://www.economicos.cl/propiedades/arriendo...   \n",
       "529874  https://www.economicos.cl/propiedades/local-o-...   \n",
       "\n",
       "                                              description         price  \\\n",
       "613115  Se vende terreno de 3000 mt2 en la comuna del ...  $ 45.000.000   \n",
       "130347  Arriendo Departamento Amoblado Full a pasos de...     $ 400.000   \n",
       "529874  Oficinas Workspaces Solutions Fernandez Luco (...         89 UF   \n",
       "\n",
       "                 property_type transaction_type                      state  \\\n",
       "613115         Sitio o Terreno            Venta                 Valparaíso   \n",
       "130347   Departamento Amoblado         Arriendo                   Tarapacá   \n",
       "529874  Local o Casa comercial         Arriendo  Metropolitana de Santiago   \n",
       "\n",
       "          county    publication_date  rooms  bathrooms  m_built  m_size  \\\n",
       "613115   El Tabo 2019-12-06 11:55:30    NaN        NaN      NaN  3000.0   \n",
       "130347   Iquique 2019-11-06 13:30:38    1.0        1.0      NaN     NaN   \n",
       "529874  Vitacura 2022-02-23 00:00:08    NaN        2.0    158.0     NaN   \n",
       "\n",
       "             source                                              title  \\\n",
       "613115         None                      Se vende terreno, en el Tabo    \n",
       "130347         None                                               None   \n",
       "529874  El Mercurio  Local o Casa comercial en Arriendo en Vitacura...   \n",
       "\n",
       "                                                  address            owner  \\\n",
       "613115  Se vende terreno de 3000 mt2 en la comuna del ...   Daniela Muñoz    \n",
       "130347                                               None             None   \n",
       "529874  Kennedy Lateral // Luis Carrera Vitacura, Metr...           Nexxos   \n",
       "\n",
       "            _price  \n",
       "613115  1591.94322  \n",
       "130347    14.25245  \n",
       "529874    89.00000  "
      ]
     },
     "execution_count": 2,
     "metadata": {},
     "output_type": "execute_result"
    }
   ],
   "source": [
    "import pandas as pd\n",
    "import numpy as np\n",
    "df = pd.read_parquet('../datasets/economicos/raw/full_dedup_economicos_step0.parquet');\n",
    "df.sample(3)"
   ]
  },
  {
   "cell_type": "code",
   "execution_count": 3,
   "metadata": {},
   "outputs": [],
   "source": [
    "%%capture\n",
    "from syntheticml.data.synthetic import Synthetic, MODELS\n",
    "category_columns=(\"property_type\", \"transaction_type\", \"state\", \"county\", \"rooms\", \"bathrooms\", \"m_built\", \"m_size\", \"source\", )\n",
    "# TODO: Estudiar implicancia de valores nulos en categorias y numeros\n",
    "df_converted = df.fillna(dict(\n",
    "        property_type = \"None\",\n",
    "        transaction_type = \"None\",\n",
    "        state = \"None\",\n",
    "        county = \"None\",\n",
    "        rooms = -1,\n",
    "        bathrooms = -1,\n",
    "        m_built = -1,\n",
    "        m_size = -1,\n",
    "        source = \"None\"\n",
    ")).fillna(-1).astype({k: 'str' for k in (\"description\", \"price\", \"title\", \"address\", \"owner\",)})\n",
    "print(df_converted.shape)\n",
    "basedate = pd.Timestamp('2017-12-01')\n",
    "dtime = df_converted.pop(\"publication_date\")\n",
    "df_converted[\"publication_date\"] = dtime.apply(lambda x: (x - basedate).days)\n",
    "syn = Synthetic(df_converted, \n",
    "        id=\"url\", \n",
    "        category_columns=category_columns,\n",
    "        text_columns=(\"description\", \"price\", \"title\", \"address\", \"owner\", ),\n",
    "        exclude_columns=tuple(),\n",
    "        synthetic_folder = \"../datasets/economicos/synthb\",\n",
    "        models=['copulagan', 'tvae', 'gaussiancopula', 'ctgan', 'smote-enc', 'tddpm_mlp'],\n",
    "        n_sample = df_converted.shape[0],\n",
    "        target_column=\"_price\",\n",
    "        max_cpu_pool=1\n",
    ")\n"
   ]
  },
  {
   "cell_type": "code",
   "execution_count": 4,
   "metadata": {},
   "outputs": [
    {
     "ename": "TerminatedWorkerError",
     "evalue": "A worker process managed by the executor was unexpectedly terminated. This could be caused by a segmentation fault while calling the function or by an excessive memory usage causing the Operating System to kill the worker.\n\nThe exit codes of the workers are {SIGKILL(-9)}",
     "output_type": "error",
     "traceback": [
      "\u001b[0;31m---------------------------------------------------------------------------\u001b[0m",
      "\u001b[0;31mTerminatedWorkerError\u001b[0m                     Traceback (most recent call last)",
      "Cell \u001b[0;32mIn [4], line 1\u001b[0m\n\u001b[0;32m----> 1\u001b[0m syn\u001b[39m.\u001b[39;49mprocess()\n\u001b[1;32m      2\u001b[0m \u001b[39m#syn.process(remaining_columns=(\"property_type\", \"transaction_type\", \"state\",))\u001b[39;00m\n\u001b[1;32m      3\u001b[0m syn\u001b[39m.\u001b[39mprocess_scores()\n",
      "File \u001b[0;32m~/dev/synthetic-data-for-text/notebooks/syntheticml/data/synthetic.py:248\u001b[0m, in \u001b[0;36mSynthetic.process\u001b[0;34m(self, remaining_columns, additional_parameters)\u001b[0m\n\u001b[1;32m    246\u001b[0m \u001b[39mdef\u001b[39;00m \u001b[39mprocess\u001b[39m(\u001b[39mself\u001b[39m, remaining_columns\u001b[39m=\u001b[39m\u001b[39mNone\u001b[39;00m, additional_parameters\u001b[39m=\u001b[39m{}) \u001b[39m-\u001b[39m\u001b[39m>\u001b[39m \u001b[39mNone\u001b[39;00m:\n\u001b[1;32m    247\u001b[0m     \u001b[39mself\u001b[39m\u001b[39m.\u001b[39mfake_data \u001b[39m=\u001b[39m \u001b[39mdict\u001b[39m(\n\u001b[0;32m--> 248\u001b[0m         \u001b[39m*\u001b[39m\u001b[39m*\u001b[39m\u001b[39mself\u001b[39m\u001b[39m.\u001b[39mfake_data, \u001b[39m*\u001b[39m\u001b[39m*\u001b[39m\u001b[39mself\u001b[39;49m\u001b[39m.\u001b[39;49m_gen_synthetic(remaining_columns, additional_parameters))\n\u001b[1;32m    249\u001b[0m     \u001b[39m# Quito elementos que hayan generado 0 data\u001b[39;00m\n\u001b[1;32m    250\u001b[0m     iters \u001b[39m=\u001b[39m \u001b[39mlist\u001b[39m(\u001b[39mself\u001b[39m\u001b[39m.\u001b[39mfake_data\u001b[39m.\u001b[39mitems())\n",
      "File \u001b[0;32m~/dev/synthetic-data-for-text/notebooks/syntheticml/data/synthetic.py:205\u001b[0m, in \u001b[0;36mSynthetic._gen_synthetic\u001b[0;34m(self, remaining_columns, additional_parameters)\u001b[0m\n\u001b[1;32m    203\u001b[0m \u001b[39mdef\u001b[39;00m \u001b[39m_gen_synthetic\u001b[39m(\u001b[39mself\u001b[39m, remaining_columns\u001b[39m=\u001b[39m\u001b[39mNone\u001b[39;00m, additional_parameters\u001b[39m=\u001b[39m{}) \u001b[39m-\u001b[39m\u001b[39m>\u001b[39m \u001b[39mdict\u001b[39m:\n\u001b[1;32m    204\u001b[0m     data_gen \u001b[39m=\u001b[39m {}\n\u001b[0;32m--> 205\u001b[0m     models \u001b[39m=\u001b[39m \u001b[39mself\u001b[39;49m\u001b[39m.\u001b[39;49mfit_models(\u001b[39mself\u001b[39;49m\u001b[39m.\u001b[39;49mmodel_names)\n\u001b[1;32m    206\u001b[0m     \u001b[39mtry\u001b[39;00m:\n\u001b[1;32m    207\u001b[0m         torch\u001b[39m.\u001b[39mmultiprocessing\u001b[39m.\u001b[39mset_start_method(\u001b[39m'\u001b[39m\u001b[39mspawn\u001b[39m\u001b[39m'\u001b[39m)\n",
      "File \u001b[0;32m~/dev/synthetic-data-for-text/notebooks/syntheticml/data/synthetic.py:199\u001b[0m, in \u001b[0;36mSynthetic.fit_models\u001b[0;34m(self, models)\u001b[0m\n\u001b[1;32m    197\u001b[0m         fitted_models \u001b[39m=\u001b[39m \u001b[39mdict\u001b[39m(\u001b[39mlist\u001b[39m(p\u001b[39m.\u001b[39mmap(pt, \u001b[39mlist\u001b[39m(models\u001b[39m.\u001b[39mitems()))))\n\u001b[1;32m    198\u001b[0m \u001b[39melse\u001b[39;00m:\n\u001b[0;32m--> 199\u001b[0m     fitted_models \u001b[39m=\u001b[39m \u001b[39mdict\u001b[39m(\u001b[39mlist\u001b[39;49m(\u001b[39mmap\u001b[39;49m(pt, \u001b[39mlist\u001b[39;49m(models\u001b[39m.\u001b[39;49mitems()))))\n\u001b[1;32m    200\u001b[0m \u001b[39m#################################################\u001b[39;00m\n\u001b[1;32m    201\u001b[0m \u001b[39mreturn\u001b[39;00m fitted_models\n",
      "File \u001b[0;32m~/dev/synthetic-data-for-text/notebooks/syntheticml/data/synthetic.py:46\u001b[0m, in \u001b[0;36mparallel_train\u001b[0;34m(model_item, checkpoint_folder, df)\u001b[0m\n\u001b[1;32m     44\u001b[0m \u001b[39mprint\u001b[39m(checkpoint)\n\u001b[1;32m     45\u001b[0m \u001b[39mprint\u001b[39m(\u001b[39m\"\u001b[39m\u001b[39m=\u001b[39m\u001b[39m\"\u001b[39m\u001b[39m*\u001b[39m\u001b[39m30\u001b[39m)\n\u001b[0;32m---> 46\u001b[0m model\u001b[39m.\u001b[39;49mfit(df)\n\u001b[1;32m     47\u001b[0m model\u001b[39m.\u001b[39msave(checkpoint)\n\u001b[1;32m     48\u001b[0m \u001b[39mprint\u001b[39m(\u001b[39m\"\u001b[39m\u001b[39m=\u001b[39m\u001b[39m\"\u001b[39m\u001b[39m*\u001b[39m\u001b[39m30\u001b[39m)\n",
      "File \u001b[0;32m~/.pyenv/versions/3.9.15/envs/syn/lib/python3.9/site-packages/sdv/tabular/base.py:149\u001b[0m, in \u001b[0;36mBaseTabularModel.fit\u001b[0;34m(self, data)\u001b[0m\n\u001b[1;32m    146\u001b[0m \u001b[39mif\u001b[39;00m \u001b[39mself\u001b[39m\u001b[39m.\u001b[39m_metadata\u001b[39m.\u001b[39mget_dtypes(ids\u001b[39m=\u001b[39m\u001b[39mFalse\u001b[39;00m):\n\u001b[1;32m    147\u001b[0m     LOGGER\u001b[39m.\u001b[39mdebug(\n\u001b[1;32m    148\u001b[0m         \u001b[39m'\u001b[39m\u001b[39mFitting \u001b[39m\u001b[39m%s\u001b[39;00m\u001b[39m model to table \u001b[39m\u001b[39m%s\u001b[39;00m\u001b[39m'\u001b[39m, \u001b[39mself\u001b[39m\u001b[39m.\u001b[39m\u001b[39m__class__\u001b[39m\u001b[39m.\u001b[39m\u001b[39m__name__\u001b[39m, \u001b[39mself\u001b[39m\u001b[39m.\u001b[39m_metadata\u001b[39m.\u001b[39mname)\n\u001b[0;32m--> 149\u001b[0m     \u001b[39mself\u001b[39;49m\u001b[39m.\u001b[39;49m_fit(transformed)\n",
      "File \u001b[0;32m~/.pyenv/versions/3.9.15/envs/syn/lib/python3.9/site-packages/sdv/tabular/ctgan.py:57\u001b[0m, in \u001b[0;36mCTGANModel._fit\u001b[0;34m(self, table_data)\u001b[0m\n\u001b[1;32m     54\u001b[0m         \u001b[39mif\u001b[39;00m kind \u001b[39min\u001b[39;00m [\u001b[39m'\u001b[39m\u001b[39mO\u001b[39m\u001b[39m'\u001b[39m, \u001b[39m'\u001b[39m\u001b[39mb\u001b[39m\u001b[39m'\u001b[39m]:\n\u001b[1;32m     55\u001b[0m             categoricals\u001b[39m.\u001b[39mappend(field)\n\u001b[0;32m---> 57\u001b[0m \u001b[39mself\u001b[39;49m\u001b[39m.\u001b[39;49m_model\u001b[39m.\u001b[39;49mfit(\n\u001b[1;32m     58\u001b[0m     table_data,\n\u001b[1;32m     59\u001b[0m     discrete_columns\u001b[39m=\u001b[39;49mcategoricals\n\u001b[1;32m     60\u001b[0m )\n",
      "File \u001b[0;32m~/.pyenv/versions/3.9.15/envs/syn/lib/python3.9/site-packages/ctgan/synthesizers/base.py:50\u001b[0m, in \u001b[0;36mrandom_state.<locals>.wrapper\u001b[0;34m(self, *args, **kwargs)\u001b[0m\n\u001b[1;32m     48\u001b[0m \u001b[39mdef\u001b[39;00m \u001b[39mwrapper\u001b[39m(\u001b[39mself\u001b[39m, \u001b[39m*\u001b[39margs, \u001b[39m*\u001b[39m\u001b[39m*\u001b[39mkwargs):\n\u001b[1;32m     49\u001b[0m     \u001b[39mif\u001b[39;00m \u001b[39mself\u001b[39m\u001b[39m.\u001b[39mrandom_states \u001b[39mis\u001b[39;00m \u001b[39mNone\u001b[39;00m:\n\u001b[0;32m---> 50\u001b[0m         \u001b[39mreturn\u001b[39;00m function(\u001b[39mself\u001b[39;49m, \u001b[39m*\u001b[39;49margs, \u001b[39m*\u001b[39;49m\u001b[39m*\u001b[39;49mkwargs)\n\u001b[1;32m     52\u001b[0m     \u001b[39melse\u001b[39;00m:\n\u001b[1;32m     53\u001b[0m         \u001b[39mwith\u001b[39;00m set_random_states(\u001b[39mself\u001b[39m\u001b[39m.\u001b[39mrandom_states, \u001b[39mself\u001b[39m\u001b[39m.\u001b[39mset_random_state):\n",
      "File \u001b[0;32m~/.pyenv/versions/3.9.15/envs/syn/lib/python3.9/site-packages/ctgan/synthesizers/ctgan.py:308\u001b[0m, in \u001b[0;36mCTGAN.fit\u001b[0;34m(self, train_data, discrete_columns, epochs)\u001b[0m\n\u001b[1;32m    305\u001b[0m \u001b[39mself\u001b[39m\u001b[39m.\u001b[39m_transformer \u001b[39m=\u001b[39m DataTransformer()\n\u001b[1;32m    306\u001b[0m \u001b[39mself\u001b[39m\u001b[39m.\u001b[39m_transformer\u001b[39m.\u001b[39mfit(train_data, discrete_columns)\n\u001b[0;32m--> 308\u001b[0m train_data \u001b[39m=\u001b[39m \u001b[39mself\u001b[39;49m\u001b[39m.\u001b[39;49m_transformer\u001b[39m.\u001b[39;49mtransform(train_data)\n\u001b[1;32m    310\u001b[0m \u001b[39mself\u001b[39m\u001b[39m.\u001b[39m_data_sampler \u001b[39m=\u001b[39m DataSampler(\n\u001b[1;32m    311\u001b[0m     train_data,\n\u001b[1;32m    312\u001b[0m     \u001b[39mself\u001b[39m\u001b[39m.\u001b[39m_transformer\u001b[39m.\u001b[39moutput_info_list,\n\u001b[1;32m    313\u001b[0m     \u001b[39mself\u001b[39m\u001b[39m.\u001b[39m_log_frequency)\n\u001b[1;32m    315\u001b[0m data_dim \u001b[39m=\u001b[39m \u001b[39mself\u001b[39m\u001b[39m.\u001b[39m_transformer\u001b[39m.\u001b[39moutput_dimensions\n",
      "File \u001b[0;32m~/.pyenv/versions/3.9.15/envs/syn/lib/python3.9/site-packages/ctgan/data_transformer.py:179\u001b[0m, in \u001b[0;36mDataTransformer.transform\u001b[0;34m(self, raw_data)\u001b[0m\n\u001b[1;32m    174\u001b[0m     column_data_list \u001b[39m=\u001b[39m \u001b[39mself\u001b[39m\u001b[39m.\u001b[39m_synchronous_transform(\n\u001b[1;32m    175\u001b[0m         raw_data,\n\u001b[1;32m    176\u001b[0m         \u001b[39mself\u001b[39m\u001b[39m.\u001b[39m_column_transform_info_list\n\u001b[1;32m    177\u001b[0m     )\n\u001b[1;32m    178\u001b[0m \u001b[39melse\u001b[39;00m:\n\u001b[0;32m--> 179\u001b[0m     column_data_list \u001b[39m=\u001b[39m \u001b[39mself\u001b[39;49m\u001b[39m.\u001b[39;49m_parallel_transform(\n\u001b[1;32m    180\u001b[0m         raw_data,\n\u001b[1;32m    181\u001b[0m         \u001b[39mself\u001b[39;49m\u001b[39m.\u001b[39;49m_column_transform_info_list\n\u001b[1;32m    182\u001b[0m     )\n\u001b[1;32m    184\u001b[0m \u001b[39mreturn\u001b[39;00m np\u001b[39m.\u001b[39mconcatenate(column_data_list, axis\u001b[39m=\u001b[39m\u001b[39m1\u001b[39m)\u001b[39m.\u001b[39mastype(\u001b[39mfloat\u001b[39m)\n",
      "File \u001b[0;32m~/.pyenv/versions/3.9.15/envs/syn/lib/python3.9/site-packages/ctgan/data_transformer.py:163\u001b[0m, in \u001b[0;36mDataTransformer._parallel_transform\u001b[0;34m(self, raw_data, column_transform_info_list)\u001b[0m\n\u001b[1;32m    160\u001b[0m         process \u001b[39m=\u001b[39m delayed(\u001b[39mself\u001b[39m\u001b[39m.\u001b[39m_transform_discrete)(column_transform_info, data)\n\u001b[1;32m    161\u001b[0m     processes\u001b[39m.\u001b[39mappend(process)\n\u001b[0;32m--> 163\u001b[0m \u001b[39mreturn\u001b[39;00m Parallel(n_jobs\u001b[39m=\u001b[39;49m\u001b[39m-\u001b[39;49m\u001b[39m1\u001b[39;49m)(processes)\n",
      "File \u001b[0;32m~/.pyenv/versions/3.9.15/envs/syn/lib/python3.9/site-packages/joblib/parallel.py:1098\u001b[0m, in \u001b[0;36mParallel.__call__\u001b[0;34m(self, iterable)\u001b[0m\n\u001b[1;32m   1095\u001b[0m     \u001b[39mself\u001b[39m\u001b[39m.\u001b[39m_iterating \u001b[39m=\u001b[39m \u001b[39mFalse\u001b[39;00m\n\u001b[1;32m   1097\u001b[0m \u001b[39mwith\u001b[39;00m \u001b[39mself\u001b[39m\u001b[39m.\u001b[39m_backend\u001b[39m.\u001b[39mretrieval_context():\n\u001b[0;32m-> 1098\u001b[0m     \u001b[39mself\u001b[39;49m\u001b[39m.\u001b[39;49mretrieve()\n\u001b[1;32m   1099\u001b[0m \u001b[39m# Make sure that we get a last message telling us we are done\u001b[39;00m\n\u001b[1;32m   1100\u001b[0m elapsed_time \u001b[39m=\u001b[39m time\u001b[39m.\u001b[39mtime() \u001b[39m-\u001b[39m \u001b[39mself\u001b[39m\u001b[39m.\u001b[39m_start_time\n",
      "File \u001b[0;32m~/.pyenv/versions/3.9.15/envs/syn/lib/python3.9/site-packages/joblib/parallel.py:975\u001b[0m, in \u001b[0;36mParallel.retrieve\u001b[0;34m(self)\u001b[0m\n\u001b[1;32m    973\u001b[0m \u001b[39mtry\u001b[39;00m:\n\u001b[1;32m    974\u001b[0m     \u001b[39mif\u001b[39;00m \u001b[39mgetattr\u001b[39m(\u001b[39mself\u001b[39m\u001b[39m.\u001b[39m_backend, \u001b[39m'\u001b[39m\u001b[39msupports_timeout\u001b[39m\u001b[39m'\u001b[39m, \u001b[39mFalse\u001b[39;00m):\n\u001b[0;32m--> 975\u001b[0m         \u001b[39mself\u001b[39m\u001b[39m.\u001b[39m_output\u001b[39m.\u001b[39mextend(job\u001b[39m.\u001b[39;49mget(timeout\u001b[39m=\u001b[39;49m\u001b[39mself\u001b[39;49m\u001b[39m.\u001b[39;49mtimeout))\n\u001b[1;32m    976\u001b[0m     \u001b[39melse\u001b[39;00m:\n\u001b[1;32m    977\u001b[0m         \u001b[39mself\u001b[39m\u001b[39m.\u001b[39m_output\u001b[39m.\u001b[39mextend(job\u001b[39m.\u001b[39mget())\n",
      "File \u001b[0;32m~/.pyenv/versions/3.9.15/envs/syn/lib/python3.9/site-packages/joblib/_parallel_backends.py:567\u001b[0m, in \u001b[0;36mLokyBackend.wrap_future_result\u001b[0;34m(future, timeout)\u001b[0m\n\u001b[1;32m    564\u001b[0m \u001b[39m\"\"\"Wrapper for Future.result to implement the same behaviour as\u001b[39;00m\n\u001b[1;32m    565\u001b[0m \u001b[39mAsyncResults.get from multiprocessing.\"\"\"\u001b[39;00m\n\u001b[1;32m    566\u001b[0m \u001b[39mtry\u001b[39;00m:\n\u001b[0;32m--> 567\u001b[0m     \u001b[39mreturn\u001b[39;00m future\u001b[39m.\u001b[39;49mresult(timeout\u001b[39m=\u001b[39;49mtimeout)\n\u001b[1;32m    568\u001b[0m \u001b[39mexcept\u001b[39;00m CfTimeoutError \u001b[39mas\u001b[39;00m e:\n\u001b[1;32m    569\u001b[0m     \u001b[39mraise\u001b[39;00m \u001b[39mTimeoutError\u001b[39;00m \u001b[39mfrom\u001b[39;00m \u001b[39me\u001b[39;00m\n",
      "File \u001b[0;32m~/.pyenv/versions/3.9.15/lib/python3.9/concurrent/futures/_base.py:446\u001b[0m, in \u001b[0;36mFuture.result\u001b[0;34m(self, timeout)\u001b[0m\n\u001b[1;32m    444\u001b[0m     \u001b[39mraise\u001b[39;00m CancelledError()\n\u001b[1;32m    445\u001b[0m \u001b[39melif\u001b[39;00m \u001b[39mself\u001b[39m\u001b[39m.\u001b[39m_state \u001b[39m==\u001b[39m FINISHED:\n\u001b[0;32m--> 446\u001b[0m     \u001b[39mreturn\u001b[39;00m \u001b[39mself\u001b[39;49m\u001b[39m.\u001b[39;49m__get_result()\n\u001b[1;32m    447\u001b[0m \u001b[39melse\u001b[39;00m:\n\u001b[1;32m    448\u001b[0m     \u001b[39mraise\u001b[39;00m \u001b[39mTimeoutError\u001b[39;00m()\n",
      "File \u001b[0;32m~/.pyenv/versions/3.9.15/lib/python3.9/concurrent/futures/_base.py:391\u001b[0m, in \u001b[0;36mFuture.__get_result\u001b[0;34m(self)\u001b[0m\n\u001b[1;32m    389\u001b[0m \u001b[39mif\u001b[39;00m \u001b[39mself\u001b[39m\u001b[39m.\u001b[39m_exception:\n\u001b[1;32m    390\u001b[0m     \u001b[39mtry\u001b[39;00m:\n\u001b[0;32m--> 391\u001b[0m         \u001b[39mraise\u001b[39;00m \u001b[39mself\u001b[39m\u001b[39m.\u001b[39m_exception\n\u001b[1;32m    392\u001b[0m     \u001b[39mfinally\u001b[39;00m:\n\u001b[1;32m    393\u001b[0m         \u001b[39m# Break a reference cycle with the exception in self._exception\u001b[39;00m\n\u001b[1;32m    394\u001b[0m         \u001b[39mself\u001b[39m \u001b[39m=\u001b[39m \u001b[39mNone\u001b[39;00m\n",
      "\u001b[0;31mTerminatedWorkerError\u001b[0m: A worker process managed by the executor was unexpectedly terminated. This could be caused by a segmentation fault while calling the function or by an excessive memory usage causing the Operating System to kill the worker.\n\nThe exit codes of the workers are {SIGKILL(-9)}"
     ]
    },
    {
     "ename": "",
     "evalue": "",
     "output_type": "error",
     "traceback": [
      "\u001b[1;31mThe Kernel crashed while executing code in the the current cell or a previous cell. Please review the code in the cell(s) to identify a possible cause of the failure. Click <a href='https://aka.ms/vscodeJupyterKernelCrash'>here</a> for more info. View Jupyter <a href='command:jupyter.viewOutput'>log</a> for further details."
     ]
    }
   ],
   "source": [
    "%%capture\n",
    "syn.process()\n",
    "#syn.process(remaining_columns=(\"property_type\", \"transaction_type\", \"state\",))\n",
    "syn.process_scores()\n"
   ]
  },
  {
   "cell_type": "markdown",
   "metadata": {},
   "source": [
    "## Metricas\n",
    "### Continuas"
   ]
  },
  {
   "cell_type": "code",
   "execution_count": null,
   "metadata": {},
   "outputs": [],
   "source": [
    "metrics = syn.current_metrics()\n",
    "metrics[~metrics.is_categorical].dropna(axis=1, how='all')"
   ]
  },
  {
   "cell_type": "markdown",
   "metadata": {},
   "source": [
    "### Categoricas"
   ]
  },
  {
   "cell_type": "code",
   "execution_count": null,
   "metadata": {},
   "outputs": [],
   "source": [
    "metrics[metrics.is_categorical].dropna(axis=1, how='all')"
   ]
  },
  {
   "cell_type": "markdown",
   "metadata": {},
   "source": [
    "## Scores"
   ]
  },
  {
   "cell_type": "code",
   "execution_count": null,
   "metadata": {},
   "outputs": [],
   "source": [
    "#best_model = \"smote-enc_noise_682338\"\n",
    "best_model = \"tddpm_mlp_27574\"\n",
    "second_best= \"smote-enc_27574\"\n",
    "avg = syn.scores[syn.scores[\"type\"] == \"avg\"]\n",
    "avg.sort_values(\"score\", ascending=False).loc[[\"tddpm_mlp_27574\",\"smote-enc_27574\",\"copulagan_27574\",\"ctgan_27574\",\"gaussiancopula_noise_27574\",\"tvae_noise_27574\",\"tvae_27574\",\"ctgan_noise_27574\",\"copulagan_noise_27574\",\"gaussiancopula_27574\"],[\"score\", \"DCR ST 5th\", \"DCR SH 5th\", \"DCR TH 5th\"]]"
   ]
  },
  {
   "cell_type": "code",
   "execution_count": null,
   "metadata": {},
   "outputs": [],
   "source": [
    "from syntheticml.data.charts import Charts\n",
    "for fig in syn.get_charts(best_model, {'date', 'id', 'zipcode', 'lat', 'long', 'yr_renovated'}):\n",
    "    if fig:\n",
    "        display(fig.show(\"png\"))"
   ]
  },
  {
   "cell_type": "code",
   "execution_count": null,
   "metadata": {},
   "outputs": [],
   "source": [
    "syn.charts.pair_corr(df.loc[:, syn.fake_data[best_model].columns].dropna(), syn.fake_data[best_model].astype({k:np.float64 for k in ('bathrooms','rooms','m_built','m_size')}), {'id', 'waterfront', 'yr_renovated'}, \"_price\").update_layout(dict(width=1000)).show(\"png\")"
   ]
  },
  {
   "cell_type": "code",
   "execution_count": null,
   "metadata": {},
   "outputs": [],
   "source": [
    "syn.fake_data[best_model]"
   ]
  },
  {
   "cell_type": "code",
   "execution_count": null,
   "metadata": {},
   "outputs": [],
   "source": [
    "syn.fake_data[second_best]"
   ]
  },
  {
   "cell_type": "code",
   "execution_count": null,
   "metadata": {},
   "outputs": [],
   "source": [
    "from syntheticml.data.charts import Charts\n",
    "for fig in syn.get_charts(second_best, {'date', 'id', 'zipcode', 'lat', 'long', 'yr_renovated'}):\n",
    "    if fig:\n",
    "        display(fig.show(\"png\"))"
   ]
  }
 ],
 "metadata": {
  "kernelspec": {
   "display_name": "Python 3.9.15 64-bit ('syn')",
   "language": "python",
   "name": "python3"
  },
  "language_info": {
   "codemirror_mode": {
    "name": "ipython",
    "version": 3
   },
   "file_extension": ".py",
   "mimetype": "text/x-python",
   "name": "python",
   "nbconvert_exporter": "python",
   "pygments_lexer": "ipython3",
   "version": "3.9.15"
  },
  "orig_nbformat": 4,
  "vscode": {
   "interpreter": {
    "hash": "339c1ec44efa671d0c0aa472f92368e3220a4c3534888d9daac06fdbcd7c45f1"
   }
  }
 },
 "nbformat": 4,
 "nbformat_minor": 2
}
