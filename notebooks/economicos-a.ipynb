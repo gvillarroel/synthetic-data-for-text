{
 "cells": [
  {
   "cell_type": "markdown",
   "metadata": {},
   "source": [
    "# Economicos"
   ]
  },
  {
   "cell_type": "code",
   "execution_count": 1,
   "metadata": {},
   "outputs": [],
   "source": [
    "%%capture\n",
    "import sys\n",
    "!ln -s ../syntheticml .\n",
    "!{sys.executable} -m pip install -U -r ../requirements.txt\n",
    "!{sys.executable} -m pip install -U kaleido"
   ]
  },
  {
   "cell_type": "code",
   "execution_count": 2,
   "metadata": {},
   "outputs": [
    {
     "data": {
      "text/html": [
       "<div>\n",
       "<style scoped>\n",
       "    .dataframe tbody tr th:only-of-type {\n",
       "        vertical-align: middle;\n",
       "    }\n",
       "\n",
       "    .dataframe tbody tr th {\n",
       "        vertical-align: top;\n",
       "    }\n",
       "\n",
       "    .dataframe thead th {\n",
       "        text-align: right;\n",
       "    }\n",
       "</style>\n",
       "<table border=\"1\" class=\"dataframe\">\n",
       "  <thead>\n",
       "    <tr style=\"text-align: right;\">\n",
       "      <th></th>\n",
       "      <th>url</th>\n",
       "      <th>description</th>\n",
       "      <th>price</th>\n",
       "      <th>property_type</th>\n",
       "      <th>transaction_type</th>\n",
       "      <th>state</th>\n",
       "      <th>county</th>\n",
       "      <th>publication_date</th>\n",
       "      <th>rooms</th>\n",
       "      <th>bathrooms</th>\n",
       "      <th>m_built</th>\n",
       "      <th>m_size</th>\n",
       "      <th>source</th>\n",
       "      <th>title</th>\n",
       "      <th>address</th>\n",
       "      <th>owner</th>\n",
       "      <th>_price</th>\n",
       "    </tr>\n",
       "  </thead>\n",
       "  <tbody>\n",
       "    <tr>\n",
       "      <th>48351</th>\n",
       "      <td>https://www.economicos.cl/propiedades/vendo-ca...</td>\n",
       "      <td>Casa sólida de 1 piso en Villa Alemana, solea...</td>\n",
       "      <td>$ 57.000.000</td>\n",
       "      <td>Casa</td>\n",
       "      <td>Venta</td>\n",
       "      <td>Valparaíso</td>\n",
       "      <td>Villa Alemana</td>\n",
       "      <td>2018-02-27 19:29:54</td>\n",
       "      <td>3.0</td>\n",
       "      <td>1.0</td>\n",
       "      <td>70.0</td>\n",
       "      <td>326.0</td>\n",
       "      <td>None</td>\n",
       "      <td>None</td>\n",
       "      <td>None</td>\n",
       "      <td>None</td>\n",
       "      <td>2117.471337</td>\n",
       "    </tr>\n",
       "    <tr>\n",
       "      <th>403314</th>\n",
       "      <td>https://www.economicos.cl/propiedades/departam...</td>\n",
       "      <td>67.000.000 Barrio Universitario, dormitorio, s...</td>\n",
       "      <td>$ 67.000.000</td>\n",
       "      <td>Departamento</td>\n",
       "      <td>Venta</td>\n",
       "      <td>None</td>\n",
       "      <td>Santiago</td>\n",
       "      <td>2018-04-22 00:00:00</td>\n",
       "      <td>NaN</td>\n",
       "      <td>NaN</td>\n",
       "      <td>NaN</td>\n",
       "      <td>NaN</td>\n",
       "      <td>El Mercurio</td>\n",
       "      <td>Departamento en Venta en Santiago</td>\n",
       "      <td>Santiago,</td>\n",
       "      <td>None</td>\n",
       "      <td>2482.377896</td>\n",
       "    </tr>\n",
       "    <tr>\n",
       "      <th>616227</th>\n",
       "      <td>https://www.economicos.cl/propiedades/local-o-...</td>\n",
       "      <td>Fabuloso Local Comercial, Manuel Montt, incluy...</td>\n",
       "      <td>55 UF</td>\n",
       "      <td>Local o Casa comercial</td>\n",
       "      <td>Arriendo</td>\n",
       "      <td>Metropolitana de Santiago</td>\n",
       "      <td>Providencia</td>\n",
       "      <td>2019-11-30 00:08:00</td>\n",
       "      <td>NaN</td>\n",
       "      <td>2.0</td>\n",
       "      <td>NaN</td>\n",
       "      <td>NaN</td>\n",
       "      <td>El Mercurio</td>\n",
       "      <td>Local o Casa comercial en Arriendo en Providen...</td>\n",
       "      <td>Providencia, Metropolitana de Santiago</td>\n",
       "      <td></td>\n",
       "      <td>55.000000</td>\n",
       "    </tr>\n",
       "  </tbody>\n",
       "</table>\n",
       "</div>"
      ],
      "text/plain": [
       "                                                      url  \\\n",
       "48351   https://www.economicos.cl/propiedades/vendo-ca...   \n",
       "403314  https://www.economicos.cl/propiedades/departam...   \n",
       "616227  https://www.economicos.cl/propiedades/local-o-...   \n",
       "\n",
       "                                              description         price  \\\n",
       "48351   Casa sólida de 1 piso en Villa Alemana, solea...  $ 57.000.000   \n",
       "403314  67.000.000 Barrio Universitario, dormitorio, s...  $ 67.000.000   \n",
       "616227  Fabuloso Local Comercial, Manuel Montt, incluy...         55 UF   \n",
       "\n",
       "                 property_type transaction_type                      state  \\\n",
       "48351                     Casa            Venta                 Valparaíso   \n",
       "403314            Departamento            Venta                       None   \n",
       "616227  Local o Casa comercial         Arriendo  Metropolitana de Santiago   \n",
       "\n",
       "               county    publication_date  rooms  bathrooms  m_built  m_size  \\\n",
       "48351   Villa Alemana 2018-02-27 19:29:54    3.0        1.0     70.0   326.0   \n",
       "403314       Santiago 2018-04-22 00:00:00    NaN        NaN      NaN     NaN   \n",
       "616227    Providencia 2019-11-30 00:08:00    NaN        2.0      NaN     NaN   \n",
       "\n",
       "             source                                              title  \\\n",
       "48351          None                                               None   \n",
       "403314  El Mercurio                  Departamento en Venta en Santiago   \n",
       "616227  El Mercurio  Local o Casa comercial en Arriendo en Providen...   \n",
       "\n",
       "                                        address owner       _price  \n",
       "48351                                      None  None  2117.471337  \n",
       "403314                               Santiago,   None  2482.377896  \n",
       "616227   Providencia, Metropolitana de Santiago          55.000000  "
      ]
     },
     "execution_count": 2,
     "metadata": {},
     "output_type": "execute_result"
    }
   ],
   "source": [
    "import pandas as pd\n",
    "import numpy as np\n",
    "from syntheticml.data.synthetic import Synthetic, MODELS\n",
    "\n",
    "df = pd.read_parquet('../datasets/economicos/raw/full_dedup_economicos_step0.parquet');\n",
    "df.sample(3)"
   ]
  },
  {
   "cell_type": "code",
   "execution_count": 3,
   "metadata": {},
   "outputs": [],
   "source": [
    "%%capture\n",
    "category_columns=(\"property_type\", \"transaction_type\", \"state\", \"county\", \"rooms\", \"bathrooms\", \"source\", )\n",
    "df_converted = df.dropna().astype({k: 'str' for k in (\"description\", \"price\", \"title\", \"address\", \"owner\",)})\n",
    "print(df_converted.shape)\n",
    "basedate = pd.Timestamp('2017-12-01')\n",
    "dtime = df_converted.pop(\"publication_date\")\n",
    "df_converted[\"publication_date\"] = dtime.apply(lambda x: (x - basedate).days)\n",
    "syn = Synthetic(df_converted, \n",
    "        id=\"url\", \n",
    "        category_columns=category_columns,\n",
    "        text_columns=(\"description\", \"price\", \"title\", \"address\", \"owner\", ),\n",
    "        exclude_columns=tuple(),\n",
    "        synthetic_folder = \"../datasets/economicos/synth-a\",\n",
    "        models=['copulagan', 'tvae', 'gaussiancopula', 'ctgan', 'smote-enc', 'tddpm_mlp'],\n",
    "        n_sample = df_converted.shape[0],\n",
    "        target_column=\"_price\",\n",
    "        max_cpu_pool=1,\n",
    "        use_noise=False\n",
    ")\n"
   ]
  },
  {
   "cell_type": "code",
   "execution_count": 4,
   "metadata": {},
   "outputs": [],
   "source": [
    "%%capture\n",
    "syn.process()\n",
    "syn.process_scores()\n"
   ]
  },
  {
   "cell_type": "code",
   "execution_count": 5,
   "metadata": {},
   "outputs": [],
   "source": [
    "best_model = \"tddpm_mlp_27574\"\n",
    "second_best_model= \"smote-enc_27574\""
   ]
  },
  {
   "cell_type": "markdown",
   "metadata": {},
   "source": [
    "## Metricas\n",
    "### Continuas"
   ]
  },
  {
   "cell_type": "code",
   "execution_count": 6,
   "metadata": {},
   "outputs": [
    {
     "name": "stdout",
     "output_type": "stream",
     "text": [
      "m_built\n",
      "publication_date\n",
      "_price\n",
      "m_size\n"
     ]
    },
    {
     "data": {
      "text/html": [
       "<div>\n",
       "<style scoped>\n",
       "    .dataframe tbody tr th:only-of-type {\n",
       "        vertical-align: middle;\n",
       "    }\n",
       "\n",
       "    .dataframe tbody tr th {\n",
       "        vertical-align: top;\n",
       "    }\n",
       "\n",
       "    .dataframe thead th {\n",
       "        text-align: right;\n",
       "    }\n",
       "</style>\n",
       "<table border=\"1\" class=\"dataframe\">\n",
       "  <thead>\n",
       "    <tr style=\"text-align: right;\">\n",
       "      <th></th>\n",
       "      <th>name</th>\n",
       "      <th>top5</th>\n",
       "      <th>top5_freq</th>\n",
       "      <th>top5_prob</th>\n",
       "      <th>is_categorical</th>\n",
       "      <th>nobs</th>\n",
       "      <th>missing</th>\n",
       "      <th>mean</th>\n",
       "      <th>std_err</th>\n",
       "      <th>upper_ci</th>\n",
       "      <th>...</th>\n",
       "      <th>mode_freq</th>\n",
       "      <th>median</th>\n",
       "      <th>0.1%</th>\n",
       "      <th>1.0%</th>\n",
       "      <th>5.0%</th>\n",
       "      <th>25.0%</th>\n",
       "      <th>75.0%</th>\n",
       "      <th>95.0%</th>\n",
       "      <th>99.0%</th>\n",
       "      <th>99.9%</th>\n",
       "    </tr>\n",
       "  </thead>\n",
       "  <tbody>\n",
       "    <tr>\n",
       "      <th>4</th>\n",
       "      <td>m_built</td>\n",
       "      <td>[140.0, 60.0, 120.0, 50.0, 70.0]</td>\n",
       "      <td>[700, 467, 444, 431, 415]</td>\n",
       "      <td>[0.031733079468697585, 0.021170497302688246, 0...</td>\n",
       "      <td>False</td>\n",
       "      <td>22059.0</td>\n",
       "      <td>0.0</td>\n",
       "      <td>1771.336159</td>\n",
       "      <td>664.364677</td>\n",
       "      <td>3073.466999</td>\n",
       "      <td>...</td>\n",
       "      <td>0.031733</td>\n",
       "      <td>107.000000</td>\n",
       "      <td>2.000000</td>\n",
       "      <td>23.000000</td>\n",
       "      <td>33.000000</td>\n",
       "      <td>60.000000</td>\n",
       "      <td>200.0</td>\n",
       "      <td>490.0</td>\n",
       "      <td>1200.0</td>\n",
       "      <td>37946.564</td>\n",
       "    </tr>\n",
       "    <tr>\n",
       "      <th>6</th>\n",
       "      <td>publication_date</td>\n",
       "      <td>[1545, 1693, 1546, 1549, 721]</td>\n",
       "      <td>[10883, 6103, 895, 320, 125]</td>\n",
       "      <td>[0.4933587197969083, 0.2766671199963734, 0.040...</td>\n",
       "      <td>False</td>\n",
       "      <td>22059.0</td>\n",
       "      <td>0.0</td>\n",
       "      <td>1470.755338</td>\n",
       "      <td>2.056273</td>\n",
       "      <td>1474.785560</td>\n",
       "      <td>...</td>\n",
       "      <td>0.493359</td>\n",
       "      <td>1545.000000</td>\n",
       "      <td>450.696000</td>\n",
       "      <td>531.000000</td>\n",
       "      <td>628.900000</td>\n",
       "      <td>1545.000000</td>\n",
       "      <td>1693.0</td>\n",
       "      <td>1693.0</td>\n",
       "      <td>1693.0</td>\n",
       "      <td>1693.000</td>\n",
       "    </tr>\n",
       "    <tr>\n",
       "      <th>7</th>\n",
       "      <td>_price</td>\n",
       "      <td>[12500.0, 10500.0, 11500.0, 8500.0, 9000.0]</td>\n",
       "      <td>[104, 99, 91, 86, 85]</td>\n",
       "      <td>[0.00471462894963507, 0.00448796409628723, 0.0...</td>\n",
       "      <td>False</td>\n",
       "      <td>22059.0</td>\n",
       "      <td>0.0</td>\n",
       "      <td>110378.900259</td>\n",
       "      <td>32745.675510</td>\n",
       "      <td>174559.244908</td>\n",
       "      <td>...</td>\n",
       "      <td>0.004715</td>\n",
       "      <td>5083.869574</td>\n",
       "      <td>0.262868</td>\n",
       "      <td>6.270122</td>\n",
       "      <td>11.759796</td>\n",
       "      <td>2040.766084</td>\n",
       "      <td>12000.0</td>\n",
       "      <td>32000.0</td>\n",
       "      <td>58942.0</td>\n",
       "      <td>262695.428</td>\n",
       "    </tr>\n",
       "    <tr>\n",
       "      <th>9</th>\n",
       "      <td>m_size</td>\n",
       "      <td>[5000.0, 50.0, 60.0, 200.0, 70.0]</td>\n",
       "      <td>[601, 342, 321, 285, 281]</td>\n",
       "      <td>[0.027245115372410353, 0.015503875968992248, 0...</td>\n",
       "      <td>False</td>\n",
       "      <td>22059.0</td>\n",
       "      <td>0.0</td>\n",
       "      <td>146269.353488</td>\n",
       "      <td>105454.123661</td>\n",
       "      <td>352955.637885</td>\n",
       "      <td>...</td>\n",
       "      <td>0.027245</td>\n",
       "      <td>145.000000</td>\n",
       "      <td>2.000000</td>\n",
       "      <td>22.000000</td>\n",
       "      <td>35.000000</td>\n",
       "      <td>66.000000</td>\n",
       "      <td>406.5</td>\n",
       "      <td>5000.0</td>\n",
       "      <td>10200.0</td>\n",
       "      <td>70000.000</td>\n",
       "    </tr>\n",
       "  </tbody>\n",
       "</table>\n",
       "<p>4 rows × 35 columns</p>\n",
       "</div>"
      ],
      "text/plain": [
       "               name                                         top5  \\\n",
       "4           m_built             [140.0, 60.0, 120.0, 50.0, 70.0]   \n",
       "6  publication_date                [1545, 1693, 1546, 1549, 721]   \n",
       "7            _price  [12500.0, 10500.0, 11500.0, 8500.0, 9000.0]   \n",
       "9            m_size            [5000.0, 50.0, 60.0, 200.0, 70.0]   \n",
       "\n",
       "                      top5_freq  \\\n",
       "4     [700, 467, 444, 431, 415]   \n",
       "6  [10883, 6103, 895, 320, 125]   \n",
       "7         [104, 99, 91, 86, 85]   \n",
       "9     [601, 342, 321, 285, 281]   \n",
       "\n",
       "                                           top5_prob  is_categorical     nobs  \\\n",
       "4  [0.031733079468697585, 0.021170497302688246, 0...           False  22059.0   \n",
       "6  [0.4933587197969083, 0.2766671199963734, 0.040...           False  22059.0   \n",
       "7  [0.00471462894963507, 0.00448796409628723, 0.0...           False  22059.0   \n",
       "9  [0.027245115372410353, 0.015503875968992248, 0...           False  22059.0   \n",
       "\n",
       "   missing           mean        std_err       upper_ci  ...  mode_freq  \\\n",
       "4      0.0    1771.336159     664.364677    3073.466999  ...   0.031733   \n",
       "6      0.0    1470.755338       2.056273    1474.785560  ...   0.493359   \n",
       "7      0.0  110378.900259   32745.675510  174559.244908  ...   0.004715   \n",
       "9      0.0  146269.353488  105454.123661  352955.637885  ...   0.027245   \n",
       "\n",
       "        median        0.1%        1.0%        5.0%        25.0%    75.0%  \\\n",
       "4   107.000000    2.000000   23.000000   33.000000    60.000000    200.0   \n",
       "6  1545.000000  450.696000  531.000000  628.900000  1545.000000   1693.0   \n",
       "7  5083.869574    0.262868    6.270122   11.759796  2040.766084  12000.0   \n",
       "9   145.000000    2.000000   22.000000   35.000000    66.000000    406.5   \n",
       "\n",
       "     95.0%    99.0%       99.9%  \n",
       "4    490.0   1200.0   37946.564  \n",
       "6   1693.0   1693.0    1693.000  \n",
       "7  32000.0  58942.0  262695.428  \n",
       "9   5000.0  10200.0   70000.000  \n",
       "\n",
       "[4 rows x 35 columns]"
      ]
     },
     "execution_count": 6,
     "metadata": {},
     "output_type": "execute_result"
    }
   ],
   "source": [
    "metrics = syn.current_metrics()\n",
    "metrics[~metrics.is_categorical].dropna(axis=1, how='all')"
   ]
  },
  {
   "cell_type": "code",
   "execution_count": 7,
   "metadata": {},
   "outputs": [
    {
     "name": "stdout",
     "output_type": "stream",
     "text": [
      "url\n"
     ]
    },
    {
     "ename": "ValueError",
     "evalue": "Selecting numericand categorical results in an empty DataFrame",
     "output_type": "error",
     "traceback": [
      "\u001b[0;31m---------------------------------------------------------------------------\u001b[0m",
      "\u001b[0;31mValueError\u001b[0m                                Traceback (most recent call last)",
      "\u001b[1;32m/home/gvillarroel/dev/synthetic-data-for-text/notebooks/economicos-a.ipynb Cell 9\u001b[0m in \u001b[0;36m1\n\u001b[0;32m----> <a href='vscode-notebook-cell:/home/gvillarroel/dev/synthetic-data-for-text/notebooks/economicos-a.ipynb#X30sZmlsZQ%3D%3D?line=0'>1</a>\u001b[0m fake_metrics \u001b[39m=\u001b[39m syn\u001b[39m.\u001b[39;49mget_metrics_fake()\n",
      "File \u001b[0;32m~/dev/synthetic-data-for-text/notebooks/syntheticml/data/synthetic.py:293\u001b[0m, in \u001b[0;36mSynthetic.get_metrics_fake\u001b[0;34m(self)\u001b[0m\n\u001b[1;32m    292\u001b[0m \u001b[39mdef\u001b[39;00m \u001b[39mget_metrics_fake\u001b[39m(\u001b[39mself\u001b[39m) \u001b[39m-\u001b[39m\u001b[39m>\u001b[39m \u001b[39mdict\u001b[39m:\n\u001b[0;32m--> 293\u001b[0m     \u001b[39mreturn\u001b[39;00m {\n\u001b[1;32m    294\u001b[0m         k: \u001b[39mself\u001b[39m\u001b[39m.\u001b[39mmetric\u001b[39m.\u001b[39mget_metrics(fake_data)\n\u001b[1;32m    295\u001b[0m         \u001b[39mfor\u001b[39;00m k, fake_data \u001b[39min\u001b[39;00m \u001b[39mself\u001b[39m\u001b[39m.\u001b[39mfake_data\u001b[39m.\u001b[39mitems()\n\u001b[1;32m    296\u001b[0m     }\n",
      "File \u001b[0;32m~/dev/synthetic-data-for-text/notebooks/syntheticml/data/synthetic.py:294\u001b[0m, in \u001b[0;36m<dictcomp>\u001b[0;34m(.0)\u001b[0m\n\u001b[1;32m    292\u001b[0m \u001b[39mdef\u001b[39;00m \u001b[39mget_metrics_fake\u001b[39m(\u001b[39mself\u001b[39m) \u001b[39m-\u001b[39m\u001b[39m>\u001b[39m \u001b[39mdict\u001b[39m:\n\u001b[1;32m    293\u001b[0m     \u001b[39mreturn\u001b[39;00m {\n\u001b[0;32m--> 294\u001b[0m         k: \u001b[39mself\u001b[39;49m\u001b[39m.\u001b[39;49mmetric\u001b[39m.\u001b[39;49mget_metrics(fake_data)\n\u001b[1;32m    295\u001b[0m         \u001b[39mfor\u001b[39;00m k, fake_data \u001b[39min\u001b[39;00m \u001b[39mself\u001b[39m\u001b[39m.\u001b[39mfake_data\u001b[39m.\u001b[39mitems()\n\u001b[1;32m    296\u001b[0m     }\n",
      "File \u001b[0;32m~/dev/synthetic-data-for-text/notebooks/syntheticml/data/metrics.py:230\u001b[0m, in \u001b[0;36mMetrics.get_metrics\u001b[0;34m(self, df)\u001b[0m\n\u001b[1;32m    229\u001b[0m \u001b[39mdef\u001b[39;00m \u001b[39mget_metrics\u001b[39m(\u001b[39mself\u001b[39m, df : pd\u001b[39m.\u001b[39mDataFrame) \u001b[39m-\u001b[39m\u001b[39m>\u001b[39m pd\u001b[39m.\u001b[39mDataFrame:\n\u001b[0;32m--> 230\u001b[0m     \u001b[39mreturn\u001b[39;00m pd\u001b[39m.\u001b[39mDataFrame([\n\u001b[1;32m    231\u001b[0m         \u001b[39mself\u001b[39m\u001b[39m.\u001b[39mget_metrics_from_serie(df[column]) \u001b[39mfor\u001b[39;00m column \u001b[39min\u001b[39;00m \u001b[39mtuple\u001b[39m(\u001b[39mset\u001b[39m(\u001b[39mself\u001b[39m\u001b[39m.\u001b[39mincludes) \u001b[39m&\u001b[39m \u001b[39mset\u001b[39m(df\u001b[39m.\u001b[39mcolumns))\n\u001b[1;32m    232\u001b[0m     ])\n",
      "File \u001b[0;32m~/dev/synthetic-data-for-text/notebooks/syntheticml/data/metrics.py:231\u001b[0m, in \u001b[0;36m<listcomp>\u001b[0;34m(.0)\u001b[0m\n\u001b[1;32m    229\u001b[0m \u001b[39mdef\u001b[39;00m \u001b[39mget_metrics\u001b[39m(\u001b[39mself\u001b[39m, df : pd\u001b[39m.\u001b[39mDataFrame) \u001b[39m-\u001b[39m\u001b[39m>\u001b[39m pd\u001b[39m.\u001b[39mDataFrame:\n\u001b[1;32m    230\u001b[0m     \u001b[39mreturn\u001b[39;00m pd\u001b[39m.\u001b[39mDataFrame([\n\u001b[0;32m--> 231\u001b[0m         \u001b[39mself\u001b[39;49m\u001b[39m.\u001b[39;49mget_metrics_from_serie(df[column]) \u001b[39mfor\u001b[39;00m column \u001b[39min\u001b[39;00m \u001b[39mtuple\u001b[39m(\u001b[39mset\u001b[39m(\u001b[39mself\u001b[39m\u001b[39m.\u001b[39mincludes) \u001b[39m&\u001b[39m \u001b[39mset\u001b[39m(df\u001b[39m.\u001b[39mcolumns))\n\u001b[1;32m    232\u001b[0m     ])\n",
      "File \u001b[0;32m~/dev/synthetic-data-for-text/notebooks/syntheticml/data/metrics.py:213\u001b[0m, in \u001b[0;36mMetrics.get_metrics_from_serie\u001b[0;34m(self, serie)\u001b[0m\n\u001b[1;32m    211\u001b[0m \u001b[39melse\u001b[39;00m:\n\u001b[1;32m    212\u001b[0m     \u001b[39mprint\u001b[39m(serie\u001b[39m.\u001b[39mname)\n\u001b[0;32m--> 213\u001b[0m     desc \u001b[39m=\u001b[39m describe(serie, \n\u001b[1;32m    214\u001b[0m     stats\u001b[39m=\u001b[39;49m[\u001b[39m\"\u001b[39;49m\u001b[39mnobs\u001b[39;49m\u001b[39m\"\u001b[39;49m, \u001b[39m\"\u001b[39;49m\u001b[39mmissing\u001b[39;49m\u001b[39m\"\u001b[39;49m, \u001b[39m\"\u001b[39;49m\u001b[39mmean\u001b[39;49m\u001b[39m\"\u001b[39;49m, \u001b[39m\"\u001b[39;49m\u001b[39mstd_err\u001b[39;49m\u001b[39m\"\u001b[39;49m, \u001b[39m\"\u001b[39;49m\u001b[39mci\u001b[39;49m\u001b[39m\"\u001b[39;49m, \u001b[39m\"\u001b[39;49m\u001b[39mci\u001b[39;49m\u001b[39m\"\u001b[39;49m, \u001b[39m\"\u001b[39;49m\u001b[39mstd\u001b[39;49m\u001b[39m\"\u001b[39;49m, \u001b[39m\"\u001b[39;49m\u001b[39miqr\u001b[39;49m\u001b[39m\"\u001b[39;49m, \u001b[39m\"\u001b[39;49m\u001b[39miqr_normal\u001b[39;49m\u001b[39m\"\u001b[39;49m, \u001b[39m\"\u001b[39;49m\u001b[39mmad\u001b[39;49m\u001b[39m\"\u001b[39;49m, \u001b[39m\"\u001b[39;49m\u001b[39mmad_normal\u001b[39;49m\u001b[39m\"\u001b[39;49m, \u001b[39m\"\u001b[39;49m\u001b[39mcoef_var\u001b[39;49m\u001b[39m\"\u001b[39;49m, \u001b[39m\"\u001b[39;49m\u001b[39mrange\u001b[39;49m\u001b[39m\"\u001b[39;49m, \u001b[39m\"\u001b[39;49m\u001b[39mmax\u001b[39;49m\u001b[39m\"\u001b[39;49m, \u001b[39m\"\u001b[39;49m\u001b[39mmin\u001b[39;49m\u001b[39m\"\u001b[39;49m, \u001b[39m\"\u001b[39;49m\u001b[39mskew\u001b[39;49m\u001b[39m\"\u001b[39;49m, \u001b[39m\"\u001b[39;49m\u001b[39mkurtosis\u001b[39;49m\u001b[39m\"\u001b[39;49m, \u001b[39m\"\u001b[39;49m\u001b[39mjarque_bera\u001b[39;49m\u001b[39m\"\u001b[39;49m, \u001b[39m\"\u001b[39;49m\u001b[39mmode\u001b[39;49m\u001b[39m\"\u001b[39;49m, \u001b[39m\"\u001b[39;49m\u001b[39mfreq\u001b[39;49m\u001b[39m\"\u001b[39;49m, \u001b[39m\"\u001b[39;49m\u001b[39mmedian\u001b[39;49m\u001b[39m\"\u001b[39;49m, \u001b[39m\"\u001b[39;49m\u001b[39mpercentiles\u001b[39;49m\u001b[39m\"\u001b[39;49m, \u001b[39m\"\u001b[39;49m\u001b[39mdistinct\u001b[39;49m\u001b[39m\"\u001b[39;49m],\n\u001b[1;32m    215\u001b[0m     percentiles\u001b[39m=\u001b[39;49m[\u001b[39m0.1\u001b[39;49m,\u001b[39m1\u001b[39;49m,\u001b[39m5\u001b[39;49m,\u001b[39m25\u001b[39;49m,\u001b[39m75\u001b[39;49m,\u001b[39m95\u001b[39;49m,\u001b[39m99\u001b[39;49m,\u001b[39m99.9\u001b[39;49m]\n\u001b[1;32m    216\u001b[0m     )[serie\u001b[39m.\u001b[39mname] \n\u001b[1;32m    219\u001b[0m metrics \u001b[39m=\u001b[39m \u001b[39mdict\u001b[39m(\n\u001b[1;32m    220\u001b[0m     name \u001b[39m=\u001b[39m serie\u001b[39m.\u001b[39mname,\n\u001b[1;32m    221\u001b[0m     top5 \u001b[39m=\u001b[39m probs\u001b[39m.\u001b[39mhead(\u001b[39m5\u001b[39m)\u001b[39m.\u001b[39mindex\u001b[39m.\u001b[39mvalues,\n\u001b[0;32m   (...)\u001b[0m\n\u001b[1;32m    224\u001b[0m     is_categorical \u001b[39m=\u001b[39m \u001b[39mself\u001b[39m\u001b[39m.\u001b[39mis_categorical(serie)\n\u001b[1;32m    225\u001b[0m )\n\u001b[1;32m    226\u001b[0m \u001b[39mreturn\u001b[39;00m \u001b[39mdict\u001b[39m(\u001b[39m*\u001b[39m\u001b[39m*\u001b[39mmetrics, \u001b[39m*\u001b[39m\u001b[39m*\u001b[39mdesc)\n",
      "File \u001b[0;32m~/.pyenv/versions/3.9.15/envs/syn/lib/python3.9/site-packages/statsmodels/stats/descriptivestats.py:671\u001b[0m, in \u001b[0;36mdescribe\u001b[0;34m(data, stats, numeric, categorical, alpha, use_t, percentiles, ntop)\u001b[0m\n\u001b[1;32m    659\u001b[0m \u001b[39m@Appender\u001b[39m(\u001b[39mstr\u001b[39m(ds))\n\u001b[1;32m    660\u001b[0m \u001b[39mdef\u001b[39;00m \u001b[39mdescribe\u001b[39m(\n\u001b[1;32m    661\u001b[0m     data: Union[np\u001b[39m.\u001b[39mndarray, pd\u001b[39m.\u001b[39mSeries, pd\u001b[39m.\u001b[39mDataFrame],\n\u001b[0;32m   (...)\u001b[0m\n\u001b[1;32m    669\u001b[0m     ntop: \u001b[39mbool\u001b[39m \u001b[39m=\u001b[39m \u001b[39m5\u001b[39m,\n\u001b[1;32m    670\u001b[0m ) \u001b[39m-\u001b[39m\u001b[39m>\u001b[39m pd\u001b[39m.\u001b[39mDataFrame:\n\u001b[0;32m--> 671\u001b[0m     \u001b[39mreturn\u001b[39;00m Description(\n\u001b[1;32m    672\u001b[0m         data,\n\u001b[1;32m    673\u001b[0m         stats,\n\u001b[1;32m    674\u001b[0m         numeric\u001b[39m=\u001b[39;49mnumeric,\n\u001b[1;32m    675\u001b[0m         categorical\u001b[39m=\u001b[39;49mcategorical,\n\u001b[1;32m    676\u001b[0m         alpha\u001b[39m=\u001b[39;49malpha,\n\u001b[1;32m    677\u001b[0m         use_t\u001b[39m=\u001b[39;49muse_t,\n\u001b[1;32m    678\u001b[0m         percentiles\u001b[39m=\u001b[39;49mpercentiles,\n\u001b[1;32m    679\u001b[0m         ntop\u001b[39m=\u001b[39;49mntop,\n\u001b[1;32m    680\u001b[0m     )\u001b[39m.\u001b[39mframe\n",
      "File \u001b[0;32m~/.pyenv/versions/3.9.15/envs/syn/lib/python3.9/site-packages/statsmodels/stats/descriptivestats.py:322\u001b[0m, in \u001b[0;36mDescription.__init__\u001b[0;34m(self, data, stats, numeric, categorical, alpha, use_t, percentiles, ntop)\u001b[0m\n\u001b[1;32m    319\u001b[0m \u001b[39mself\u001b[39m\u001b[39m.\u001b[39m_data \u001b[39m=\u001b[39m pd\u001b[39m.\u001b[39mDataFrame(data)\u001b[39m.\u001b[39mselect_dtypes(include)\n\u001b[1;32m    320\u001b[0m \u001b[39mif\u001b[39;00m \u001b[39mself\u001b[39m\u001b[39m.\u001b[39m_data\u001b[39m.\u001b[39mshape[\u001b[39m1\u001b[39m] \u001b[39m==\u001b[39m \u001b[39m0\u001b[39m:\n\u001b[0;32m--> 322\u001b[0m     \u001b[39mraise\u001b[39;00m \u001b[39mValueError\u001b[39;00m(\n\u001b[1;32m    323\u001b[0m         \u001b[39mf\u001b[39m\u001b[39m\"\u001b[39m\u001b[39mSelecting \u001b[39m\u001b[39m{\u001b[39;00mcol_types\u001b[39m}\u001b[39;00m\u001b[39m results in an empty DataFrame\u001b[39m\u001b[39m\"\u001b[39m\n\u001b[1;32m    324\u001b[0m     )\n\u001b[1;32m    325\u001b[0m \u001b[39mself\u001b[39m\u001b[39m.\u001b[39m_is_numeric \u001b[39m=\u001b[39m [is_numeric_dtype(dt) \u001b[39mfor\u001b[39;00m dt \u001b[39min\u001b[39;00m \u001b[39mself\u001b[39m\u001b[39m.\u001b[39m_data\u001b[39m.\u001b[39mdtypes]\n\u001b[1;32m    326\u001b[0m \u001b[39mself\u001b[39m\u001b[39m.\u001b[39m_is_cat_like \u001b[39m=\u001b[39m [\n\u001b[1;32m    327\u001b[0m     is_categorical_dtype(dt) \u001b[39mfor\u001b[39;00m dt \u001b[39min\u001b[39;00m \u001b[39mself\u001b[39m\u001b[39m.\u001b[39m_data\u001b[39m.\u001b[39mdtypes\n\u001b[1;32m    328\u001b[0m ]\n",
      "\u001b[0;31mValueError\u001b[0m: Selecting numericand categorical results in an empty DataFrame"
     ]
    },
    {
     "ename": "",
     "evalue": "",
     "output_type": "error",
     "traceback": [
      "\u001b[1;31mThe Kernel crashed while executing code in the the current cell or a previous cell. Please review the code in the cell(s) to identify a possible cause of the failure. Click <a href='https://aka.ms/vscodeJupyterKernelCrash'>here</a> for more info. View Jupyter <a href='command:jupyter.viewOutput'>log</a> for further details."
     ]
    }
   ],
   "source": [
    "fake_metrics = syn.get_metrics_fake()"
   ]
  },
  {
   "cell_type": "code",
   "execution_count": null,
   "metadata": {},
   "outputs": [
    {
     "ename": "ValueError",
     "evalue": "Selecting numericand categorical results in an empty DataFrame",
     "output_type": "error",
     "traceback": [
      "\u001b[0;31m---------------------------------------------------------------------------\u001b[0m",
      "\u001b[0;31mValueError\u001b[0m                                Traceback (most recent call last)",
      "\u001b[1;32m/home/gvillarroel/dev/synthetic-data-for-text/notebooks/economicos-a.ipynb Cell 9\u001b[0m in \u001b[0;36m2\n\u001b[1;32m      <a href='vscode-notebook-cell:/home/gvillarroel/dev/synthetic-data-for-text/notebooks/economicos-a.ipynb#X23sZmlsZQ%3D%3D?line=0'>1</a>\u001b[0m current_metrics \u001b[39m=\u001b[39m syn\u001b[39m.\u001b[39mcurrent_metrics()\n\u001b[0;32m----> <a href='vscode-notebook-cell:/home/gvillarroel/dev/synthetic-data-for-text/notebooks/economicos-a.ipynb#X23sZmlsZQ%3D%3D?line=1'>2</a>\u001b[0m fake_metrics \u001b[39m=\u001b[39m syn\u001b[39m.\u001b[39;49mget_metrics_fake()\n\u001b[1;32m      <a href='vscode-notebook-cell:/home/gvillarroel/dev/synthetic-data-for-text/notebooks/economicos-a.ipynb#X23sZmlsZQ%3D%3D?line=3'>4</a>\u001b[0m models \u001b[39m=\u001b[39m [best_model, second_best_model]\n\u001b[1;32m      <a href='vscode-notebook-cell:/home/gvillarroel/dev/synthetic-data-for-text/notebooks/economicos-a.ipynb#X23sZmlsZQ%3D%3D?line=4'>5</a>\u001b[0m prop_cat \u001b[39m=\u001b[39m [\u001b[39m\"\u001b[39m\u001b[39mname\u001b[39m\u001b[39m\"\u001b[39m, \u001b[39m\"\u001b[39m\u001b[39mtop5\u001b[39m\u001b[39m\"\u001b[39m, \u001b[39m\"\u001b[39m\u001b[39mtop5_prob\u001b[39m\u001b[39m\"\u001b[39m]\n",
      "File \u001b[0;32m~/dev/synthetic-data-for-text/notebooks/syntheticml/data/synthetic.py:293\u001b[0m, in \u001b[0;36mSynthetic.get_metrics_fake\u001b[0;34m(self)\u001b[0m\n\u001b[1;32m    292\u001b[0m \u001b[39mdef\u001b[39;00m \u001b[39mget_metrics_fake\u001b[39m(\u001b[39mself\u001b[39m) \u001b[39m-\u001b[39m\u001b[39m>\u001b[39m \u001b[39mdict\u001b[39m:\n\u001b[0;32m--> 293\u001b[0m     \u001b[39mreturn\u001b[39;00m {\n\u001b[1;32m    294\u001b[0m         k: \u001b[39mself\u001b[39m\u001b[39m.\u001b[39mmetric\u001b[39m.\u001b[39mget_metrics(fake_data)\n\u001b[1;32m    295\u001b[0m         \u001b[39mfor\u001b[39;00m k, fake_data \u001b[39min\u001b[39;00m \u001b[39mself\u001b[39m\u001b[39m.\u001b[39mfake_data\u001b[39m.\u001b[39mitems()\n\u001b[1;32m    296\u001b[0m     }\n",
      "File \u001b[0;32m~/dev/synthetic-data-for-text/notebooks/syntheticml/data/synthetic.py:294\u001b[0m, in \u001b[0;36m<dictcomp>\u001b[0;34m(.0)\u001b[0m\n\u001b[1;32m    292\u001b[0m \u001b[39mdef\u001b[39;00m \u001b[39mget_metrics_fake\u001b[39m(\u001b[39mself\u001b[39m) \u001b[39m-\u001b[39m\u001b[39m>\u001b[39m \u001b[39mdict\u001b[39m:\n\u001b[1;32m    293\u001b[0m     \u001b[39mreturn\u001b[39;00m {\n\u001b[0;32m--> 294\u001b[0m         k: \u001b[39mself\u001b[39;49m\u001b[39m.\u001b[39;49mmetric\u001b[39m.\u001b[39;49mget_metrics(fake_data)\n\u001b[1;32m    295\u001b[0m         \u001b[39mfor\u001b[39;00m k, fake_data \u001b[39min\u001b[39;00m \u001b[39mself\u001b[39m\u001b[39m.\u001b[39mfake_data\u001b[39m.\u001b[39mitems()\n\u001b[1;32m    296\u001b[0m     }\n",
      "File \u001b[0;32m~/dev/synthetic-data-for-text/notebooks/syntheticml/data/metrics.py:229\u001b[0m, in \u001b[0;36mMetrics.get_metrics\u001b[0;34m(self, df)\u001b[0m\n\u001b[1;32m    228\u001b[0m \u001b[39mdef\u001b[39;00m \u001b[39mget_metrics\u001b[39m(\u001b[39mself\u001b[39m, df : pd\u001b[39m.\u001b[39mDataFrame) \u001b[39m-\u001b[39m\u001b[39m>\u001b[39m pd\u001b[39m.\u001b[39mDataFrame:\n\u001b[0;32m--> 229\u001b[0m     \u001b[39mreturn\u001b[39;00m pd\u001b[39m.\u001b[39mDataFrame([\n\u001b[1;32m    230\u001b[0m         \u001b[39mself\u001b[39m\u001b[39m.\u001b[39mget_metrics_from_serie(df[column]) \u001b[39mfor\u001b[39;00m column \u001b[39min\u001b[39;00m \u001b[39mtuple\u001b[39m(\u001b[39mset\u001b[39m(\u001b[39mself\u001b[39m\u001b[39m.\u001b[39mincludes) \u001b[39m&\u001b[39m \u001b[39mset\u001b[39m(df\u001b[39m.\u001b[39mcolumns))\n\u001b[1;32m    231\u001b[0m     ])\n",
      "File \u001b[0;32m~/dev/synthetic-data-for-text/notebooks/syntheticml/data/metrics.py:230\u001b[0m, in \u001b[0;36m<listcomp>\u001b[0;34m(.0)\u001b[0m\n\u001b[1;32m    228\u001b[0m \u001b[39mdef\u001b[39;00m \u001b[39mget_metrics\u001b[39m(\u001b[39mself\u001b[39m, df : pd\u001b[39m.\u001b[39mDataFrame) \u001b[39m-\u001b[39m\u001b[39m>\u001b[39m pd\u001b[39m.\u001b[39mDataFrame:\n\u001b[1;32m    229\u001b[0m     \u001b[39mreturn\u001b[39;00m pd\u001b[39m.\u001b[39mDataFrame([\n\u001b[0;32m--> 230\u001b[0m         \u001b[39mself\u001b[39;49m\u001b[39m.\u001b[39;49mget_metrics_from_serie(df[column]) \u001b[39mfor\u001b[39;00m column \u001b[39min\u001b[39;00m \u001b[39mtuple\u001b[39m(\u001b[39mset\u001b[39m(\u001b[39mself\u001b[39m\u001b[39m.\u001b[39mincludes) \u001b[39m&\u001b[39m \u001b[39mset\u001b[39m(df\u001b[39m.\u001b[39mcolumns))\n\u001b[1;32m    231\u001b[0m     ])\n",
      "File \u001b[0;32m~/dev/synthetic-data-for-text/notebooks/syntheticml/data/metrics.py:212\u001b[0m, in \u001b[0;36mMetrics.get_metrics_from_serie\u001b[0;34m(self, serie)\u001b[0m\n\u001b[1;32m    207\u001b[0m         desc \u001b[39m=\u001b[39m {\n\u001b[1;32m    208\u001b[0m             \u001b[39m\"\u001b[39m\u001b[39mnobs\u001b[39m\u001b[39m\"\u001b[39m: serie\u001b[39m.\u001b[39mshape[\u001b[39m0\u001b[39m],\n\u001b[1;32m    209\u001b[0m             \u001b[39m\"\u001b[39m\u001b[39mmissing\u001b[39m\u001b[39m\"\u001b[39m: serie\u001b[39m.\u001b[39misna()\u001b[39m.\u001b[39mcount()\n\u001b[1;32m    210\u001b[0m         }\n\u001b[1;32m    211\u001b[0m \u001b[39melse\u001b[39;00m:\n\u001b[0;32m--> 212\u001b[0m     desc \u001b[39m=\u001b[39m describe(serie, \n\u001b[1;32m    213\u001b[0m     stats\u001b[39m=\u001b[39;49m[\u001b[39m\"\u001b[39;49m\u001b[39mnobs\u001b[39;49m\u001b[39m\"\u001b[39;49m, \u001b[39m\"\u001b[39;49m\u001b[39mmissing\u001b[39;49m\u001b[39m\"\u001b[39;49m, \u001b[39m\"\u001b[39;49m\u001b[39mmean\u001b[39;49m\u001b[39m\"\u001b[39;49m, \u001b[39m\"\u001b[39;49m\u001b[39mstd_err\u001b[39;49m\u001b[39m\"\u001b[39;49m, \u001b[39m\"\u001b[39;49m\u001b[39mci\u001b[39;49m\u001b[39m\"\u001b[39;49m, \u001b[39m\"\u001b[39;49m\u001b[39mci\u001b[39;49m\u001b[39m\"\u001b[39;49m, \u001b[39m\"\u001b[39;49m\u001b[39mstd\u001b[39;49m\u001b[39m\"\u001b[39;49m, \u001b[39m\"\u001b[39;49m\u001b[39miqr\u001b[39;49m\u001b[39m\"\u001b[39;49m, \u001b[39m\"\u001b[39;49m\u001b[39miqr_normal\u001b[39;49m\u001b[39m\"\u001b[39;49m, \u001b[39m\"\u001b[39;49m\u001b[39mmad\u001b[39;49m\u001b[39m\"\u001b[39;49m, \u001b[39m\"\u001b[39;49m\u001b[39mmad_normal\u001b[39;49m\u001b[39m\"\u001b[39;49m, \u001b[39m\"\u001b[39;49m\u001b[39mcoef_var\u001b[39;49m\u001b[39m\"\u001b[39;49m, \u001b[39m\"\u001b[39;49m\u001b[39mrange\u001b[39;49m\u001b[39m\"\u001b[39;49m, \u001b[39m\"\u001b[39;49m\u001b[39mmax\u001b[39;49m\u001b[39m\"\u001b[39;49m, \u001b[39m\"\u001b[39;49m\u001b[39mmin\u001b[39;49m\u001b[39m\"\u001b[39;49m, \u001b[39m\"\u001b[39;49m\u001b[39mskew\u001b[39;49m\u001b[39m\"\u001b[39;49m, \u001b[39m\"\u001b[39;49m\u001b[39mkurtosis\u001b[39;49m\u001b[39m\"\u001b[39;49m, \u001b[39m\"\u001b[39;49m\u001b[39mjarque_bera\u001b[39;49m\u001b[39m\"\u001b[39;49m, \u001b[39m\"\u001b[39;49m\u001b[39mmode\u001b[39;49m\u001b[39m\"\u001b[39;49m, \u001b[39m\"\u001b[39;49m\u001b[39mfreq\u001b[39;49m\u001b[39m\"\u001b[39;49m, \u001b[39m\"\u001b[39;49m\u001b[39mmedian\u001b[39;49m\u001b[39m\"\u001b[39;49m, \u001b[39m\"\u001b[39;49m\u001b[39mpercentiles\u001b[39;49m\u001b[39m\"\u001b[39;49m, \u001b[39m\"\u001b[39;49m\u001b[39mdistinct\u001b[39;49m\u001b[39m\"\u001b[39;49m],\n\u001b[1;32m    214\u001b[0m     percentiles\u001b[39m=\u001b[39;49m[\u001b[39m0.1\u001b[39;49m,\u001b[39m1\u001b[39;49m,\u001b[39m5\u001b[39;49m,\u001b[39m25\u001b[39;49m,\u001b[39m75\u001b[39;49m,\u001b[39m95\u001b[39;49m,\u001b[39m99\u001b[39;49m,\u001b[39m99.9\u001b[39;49m]\n\u001b[1;32m    215\u001b[0m     )[serie\u001b[39m.\u001b[39mname] \n\u001b[1;32m    218\u001b[0m metrics \u001b[39m=\u001b[39m \u001b[39mdict\u001b[39m(\n\u001b[1;32m    219\u001b[0m     name \u001b[39m=\u001b[39m serie\u001b[39m.\u001b[39mname,\n\u001b[1;32m    220\u001b[0m     top5 \u001b[39m=\u001b[39m probs\u001b[39m.\u001b[39mhead(\u001b[39m5\u001b[39m)\u001b[39m.\u001b[39mindex\u001b[39m.\u001b[39mvalues,\n\u001b[0;32m   (...)\u001b[0m\n\u001b[1;32m    223\u001b[0m     is_categorical \u001b[39m=\u001b[39m \u001b[39mself\u001b[39m\u001b[39m.\u001b[39mis_categorical(serie)\n\u001b[1;32m    224\u001b[0m )\n\u001b[1;32m    225\u001b[0m \u001b[39mreturn\u001b[39;00m \u001b[39mdict\u001b[39m(\u001b[39m*\u001b[39m\u001b[39m*\u001b[39mmetrics, \u001b[39m*\u001b[39m\u001b[39m*\u001b[39mdesc)\n",
      "File \u001b[0;32m~/.pyenv/versions/3.9.15/envs/syn/lib/python3.9/site-packages/statsmodels/stats/descriptivestats.py:671\u001b[0m, in \u001b[0;36mdescribe\u001b[0;34m(data, stats, numeric, categorical, alpha, use_t, percentiles, ntop)\u001b[0m\n\u001b[1;32m    659\u001b[0m \u001b[39m@Appender\u001b[39m(\u001b[39mstr\u001b[39m(ds))\n\u001b[1;32m    660\u001b[0m \u001b[39mdef\u001b[39;00m \u001b[39mdescribe\u001b[39m(\n\u001b[1;32m    661\u001b[0m     data: Union[np\u001b[39m.\u001b[39mndarray, pd\u001b[39m.\u001b[39mSeries, pd\u001b[39m.\u001b[39mDataFrame],\n\u001b[0;32m   (...)\u001b[0m\n\u001b[1;32m    669\u001b[0m     ntop: \u001b[39mbool\u001b[39m \u001b[39m=\u001b[39m \u001b[39m5\u001b[39m,\n\u001b[1;32m    670\u001b[0m ) \u001b[39m-\u001b[39m\u001b[39m>\u001b[39m pd\u001b[39m.\u001b[39mDataFrame:\n\u001b[0;32m--> 671\u001b[0m     \u001b[39mreturn\u001b[39;00m Description(\n\u001b[1;32m    672\u001b[0m         data,\n\u001b[1;32m    673\u001b[0m         stats,\n\u001b[1;32m    674\u001b[0m         numeric\u001b[39m=\u001b[39;49mnumeric,\n\u001b[1;32m    675\u001b[0m         categorical\u001b[39m=\u001b[39;49mcategorical,\n\u001b[1;32m    676\u001b[0m         alpha\u001b[39m=\u001b[39;49malpha,\n\u001b[1;32m    677\u001b[0m         use_t\u001b[39m=\u001b[39;49muse_t,\n\u001b[1;32m    678\u001b[0m         percentiles\u001b[39m=\u001b[39;49mpercentiles,\n\u001b[1;32m    679\u001b[0m         ntop\u001b[39m=\u001b[39;49mntop,\n\u001b[1;32m    680\u001b[0m     )\u001b[39m.\u001b[39mframe\n",
      "File \u001b[0;32m~/.pyenv/versions/3.9.15/envs/syn/lib/python3.9/site-packages/statsmodels/stats/descriptivestats.py:322\u001b[0m, in \u001b[0;36mDescription.__init__\u001b[0;34m(self, data, stats, numeric, categorical, alpha, use_t, percentiles, ntop)\u001b[0m\n\u001b[1;32m    319\u001b[0m \u001b[39mself\u001b[39m\u001b[39m.\u001b[39m_data \u001b[39m=\u001b[39m pd\u001b[39m.\u001b[39mDataFrame(data)\u001b[39m.\u001b[39mselect_dtypes(include)\n\u001b[1;32m    320\u001b[0m \u001b[39mif\u001b[39;00m \u001b[39mself\u001b[39m\u001b[39m.\u001b[39m_data\u001b[39m.\u001b[39mshape[\u001b[39m1\u001b[39m] \u001b[39m==\u001b[39m \u001b[39m0\u001b[39m:\n\u001b[0;32m--> 322\u001b[0m     \u001b[39mraise\u001b[39;00m \u001b[39mValueError\u001b[39;00m(\n\u001b[1;32m    323\u001b[0m         \u001b[39mf\u001b[39m\u001b[39m\"\u001b[39m\u001b[39mSelecting \u001b[39m\u001b[39m{\u001b[39;00mcol_types\u001b[39m}\u001b[39;00m\u001b[39m results in an empty DataFrame\u001b[39m\u001b[39m\"\u001b[39m\n\u001b[1;32m    324\u001b[0m     )\n\u001b[1;32m    325\u001b[0m \u001b[39mself\u001b[39m\u001b[39m.\u001b[39m_is_numeric \u001b[39m=\u001b[39m [is_numeric_dtype(dt) \u001b[39mfor\u001b[39;00m dt \u001b[39min\u001b[39;00m \u001b[39mself\u001b[39m\u001b[39m.\u001b[39m_data\u001b[39m.\u001b[39mdtypes]\n\u001b[1;32m    326\u001b[0m \u001b[39mself\u001b[39m\u001b[39m.\u001b[39m_is_cat_like \u001b[39m=\u001b[39m [\n\u001b[1;32m    327\u001b[0m     is_categorical_dtype(dt) \u001b[39mfor\u001b[39;00m dt \u001b[39min\u001b[39;00m \u001b[39mself\u001b[39m\u001b[39m.\u001b[39m_data\u001b[39m.\u001b[39mdtypes\n\u001b[1;32m    328\u001b[0m ]\n",
      "\u001b[0;31mValueError\u001b[0m: Selecting numericand categorical results in an empty DataFrame"
     ]
    }
   ],
   "source": [
    "current_metrics = syn.current_metrics()\n",
    "fake_metrics = syn.get_metrics_fake()\n",
    "\n",
    "models = [best_model, second_best_model]\n",
    "prop_cat = [\"name\", \"top5\", \"top5_prob\"]\n",
    "import numpy as np\n",
    "columns = list(current_metrics.name.unique())\n",
    "dfs = [\n",
    "    current_metrics.loc[(current_metrics.name.isin(columns) & current_metrics.is_categorical),prop_cat].dropna(axis=1, how='all').assign(model=\"Real\")\n",
    "]\n",
    "for model_name in models:\n",
    "    dfs.append(fake_metrics[model_name].loc[(fake_metrics[model_name].name.isin(columns) & fake_metrics[model_name].is_categorical),prop_cat].dropna(axis=1, how='all').assign(model=model_name))\n",
    "\n",
    "diffdf = pd.concat(dfs).sort_values([\"name\", \"model\"], ascending=[True, True]).loc[:, [\"model\", \"name\"] + prop_cat[1:]]\n",
    "\n",
    "\n",
    "for name in diffdf.name.unique():\n",
    "    #print(name)\n",
    "    #print(diffdf.loc[((diffdf.name == name) & (diffdf.model != \"Real\")) , [\"top5_prob\"]])\n",
    "    #print(diffdf.loc[((diffdf.name == name) & (diffdf.model == \"Real\")), [\"top5_prob\"]])\n",
    "    #diffdf.loc[((diffdf.name == name) & (diffdf.model != \"Real\")), [\"top5_prob\"]] = np.abs(diffdf.loc[((diffdf.name == name) & (diffdf.model != \"Real\")) , [\"top5_prob\"]].values\n",
    "    #    - diffdf.loc[((diffdf.name == name) & (diffdf.model == \"Real\")), [\"top5_prob\"]].values)\n",
    "    #print(\n",
    "    #    np.array(np.abs(diffdf.loc[((diffdf.name == name) & (diffdf.model != \"Real\")) , [\"top5_prob\"]].values\n",
    "    #    - diffdf.loc[((diffdf.name == name) & (diffdf.model == \"Real\")), [\"top5_prob\"]].values).tolist()).reshape(-1,5).sum(axis=1).reshape(-1,1)\n",
    "    #)\n",
    "\n",
    "    #diffdf.loc[((diffdf.name == name) & (diffdf.model != \"Real\")), [\"top5_prob\"]] = np.array(np.abs(diffdf.loc[((diffdf.name == name) & (diffdf.model != \"Real\")) , [\"top5_prob\"]].values\n",
    "    #    - diffdf.loc[((diffdf.name == name) & (diffdf.model == \"Real\")), [\"top5_prob\"]].values).tolist()).reshape(-1,5).sum(axis=1).reshape(-1,1)\n",
    "\n",
    "    #diffdf.loc[((diffdf.name == name) & (diffdf.model != \"Real\")), [\"top5_prob\"]] = np.array(np.abs(diffdf.loc[((diffdf.name == name) & (diffdf.model != \"Real\")) , [\"top5_prob\"]].values\n",
    "    #- diffdf.loc[((diffdf.name == name) & (diffdf.model == \"Real\")), [\"top5_prob\"]].values).tolist()).sum(axis=2)\n",
    "    pass\n",
    "diffdf\n",
    "#print(diffdf.style.to_latex().replace(\"_\", \"\\_\"))"
   ]
  },
  {
   "cell_type": "code",
   "execution_count": null,
   "metadata": {},
   "outputs": [
    {
     "ename": "NameError",
     "evalue": "name 'fake_metrics' is not defined",
     "output_type": "error",
     "traceback": [
      "\u001b[0;31m---------------------------------------------------------------------------\u001b[0m",
      "\u001b[0;31mNameError\u001b[0m                                 Traceback (most recent call last)",
      "\u001b[1;32m/home/gvillarroel/dev/synthetic-data-for-text/notebooks/economicos-a.ipynb Cell 10\u001b[0m in \u001b[0;36m9\n\u001b[1;32m      <a href='vscode-notebook-cell:/home/gvillarroel/dev/synthetic-data-for-text/notebooks/economicos-a.ipynb#X26sZmlsZQ%3D%3D?line=4'>5</a>\u001b[0m dfs \u001b[39m=\u001b[39m [\n\u001b[1;32m      <a href='vscode-notebook-cell:/home/gvillarroel/dev/synthetic-data-for-text/notebooks/economicos-a.ipynb#X26sZmlsZQ%3D%3D?line=5'>6</a>\u001b[0m     current_metrics\u001b[39m.\u001b[39mloc[(current_metrics\u001b[39m.\u001b[39mname\u001b[39m.\u001b[39misin(columns) \u001b[39m&\u001b[39m \u001b[39m~\u001b[39mcurrent_metrics\u001b[39m.\u001b[39mis_categorical),prop_cat]\u001b[39m.\u001b[39mdropna(axis\u001b[39m=\u001b[39m\u001b[39m1\u001b[39m, how\u001b[39m=\u001b[39m\u001b[39m'\u001b[39m\u001b[39mall\u001b[39m\u001b[39m'\u001b[39m)\u001b[39m.\u001b[39massign(model\u001b[39m=\u001b[39m\u001b[39m\"\u001b[39m\u001b[39mReal\u001b[39m\u001b[39m\"\u001b[39m)\n\u001b[1;32m      <a href='vscode-notebook-cell:/home/gvillarroel/dev/synthetic-data-for-text/notebooks/economicos-a.ipynb#X26sZmlsZQ%3D%3D?line=6'>7</a>\u001b[0m ]\n\u001b[1;32m      <a href='vscode-notebook-cell:/home/gvillarroel/dev/synthetic-data-for-text/notebooks/economicos-a.ipynb#X26sZmlsZQ%3D%3D?line=7'>8</a>\u001b[0m \u001b[39mfor\u001b[39;00m model_name \u001b[39min\u001b[39;00m models:\n\u001b[0;32m----> <a href='vscode-notebook-cell:/home/gvillarroel/dev/synthetic-data-for-text/notebooks/economicos-a.ipynb#X26sZmlsZQ%3D%3D?line=8'>9</a>\u001b[0m     dfs\u001b[39m.\u001b[39mappend(fake_metrics[model_name]\u001b[39m.\u001b[39mloc[(fake_metrics[model_name]\u001b[39m.\u001b[39mname\u001b[39m.\u001b[39misin(columns) \u001b[39m&\u001b[39m \u001b[39m~\u001b[39mfake_metrics[model_name]\u001b[39m.\u001b[39mis_categorical),prop_cat]\u001b[39m.\u001b[39mdropna(axis\u001b[39m=\u001b[39m\u001b[39m1\u001b[39m, how\u001b[39m=\u001b[39m\u001b[39m'\u001b[39m\u001b[39mall\u001b[39m\u001b[39m'\u001b[39m)\u001b[39m.\u001b[39massign(model\u001b[39m=\u001b[39mmodel_name))\n\u001b[1;32m     <a href='vscode-notebook-cell:/home/gvillarroel/dev/synthetic-data-for-text/notebooks/economicos-a.ipynb#X26sZmlsZQ%3D%3D?line=10'>11</a>\u001b[0m diffdf \u001b[39m=\u001b[39m pd\u001b[39m.\u001b[39mconcat(dfs)\u001b[39m.\u001b[39msort_values([\u001b[39m\"\u001b[39m\u001b[39mname\u001b[39m\u001b[39m\"\u001b[39m, \u001b[39m\"\u001b[39m\u001b[39mmodel\u001b[39m\u001b[39m\"\u001b[39m], ascending\u001b[39m=\u001b[39m[\u001b[39mTrue\u001b[39;00m, \u001b[39mTrue\u001b[39;00m])\u001b[39m.\u001b[39mloc[:, [\u001b[39m\"\u001b[39m\u001b[39mmodel\u001b[39m\u001b[39m\"\u001b[39m, \u001b[39m\"\u001b[39m\u001b[39mname\u001b[39m\u001b[39m\"\u001b[39m] \u001b[39m+\u001b[39m prop_cat[\u001b[39m1\u001b[39m:]]\n\u001b[1;32m     <a href='vscode-notebook-cell:/home/gvillarroel/dev/synthetic-data-for-text/notebooks/economicos-a.ipynb#X26sZmlsZQ%3D%3D?line=11'>12</a>\u001b[0m diffdf\n",
      "\u001b[0;31mNameError\u001b[0m: name 'fake_metrics' is not defined"
     ]
    }
   ],
   "source": [
    "models = [\"smote-enc_21613\", \"tddpm_mlp_21613\"]\n",
    "prop_cat = [\"name\", \"range\", \"min\", \"1.0%\", \"mean\", \"99.0%\", \"max\"]\n",
    "import numpy as np\n",
    "columns = list(current_metrics.name.unique())\n",
    "dfs = [\n",
    "    current_metrics.loc[(current_metrics.name.isin(columns) & ~current_metrics.is_categorical),prop_cat].dropna(axis=1, how='all').assign(model=\"Real\")\n",
    "]\n",
    "for model_name in models:\n",
    "    dfs.append(fake_metrics[model_name].loc[(fake_metrics[model_name].name.isin(columns) & ~fake_metrics[model_name].is_categorical),prop_cat].dropna(axis=1, how='all').assign(model=model_name))\n",
    "\n",
    "diffdf = pd.concat(dfs).sort_values([\"name\", \"model\"], ascending=[True, True]).loc[:, [\"model\", \"name\"] + prop_cat[1:]]\n",
    "diffdf"
   ]
  },
  {
   "cell_type": "markdown",
   "metadata": {},
   "source": [
    "### Categoricas"
   ]
  },
  {
   "cell_type": "code",
   "execution_count": null,
   "metadata": {},
   "outputs": [],
   "source": [
    "metrics[metrics.is_categorical].dropna(axis=1, how='all')"
   ]
  },
  {
   "cell_type": "code",
   "execution_count": null,
   "metadata": {},
   "outputs": [],
   "source": [
    "syn.scores.index.unique()"
   ]
  },
  {
   "cell_type": "markdown",
   "metadata": {},
   "source": [
    "## Scores"
   ]
  },
  {
   "cell_type": "code",
   "execution_count": null,
   "metadata": {},
   "outputs": [],
   "source": [
    "#best_model = \"smote-enc_noise_682338\"\n",
    "\n",
    "avg = syn.scores[syn.scores[\"type\"] == \"avg\"]\n",
    "avg.sort_values(\"score\", ascending=False).loc[:,[\"score\", \"DCR ST 5th\", \"DCR SH 5th\", \"DCR TH 5th\"]]"
   ]
  },
  {
   "cell_type": "code",
   "execution_count": null,
   "metadata": {},
   "outputs": [],
   "source": [
    "def formater(x):\n",
    "    return '{:.2e}'.format(x)\n",
    "sci_format = { k: formater for k in [\"DCR ST 5th\", \"DCR SH 5th\", \"DCR TH 5th\"]}\n",
    "\n",
    "print(avg.sort_values(\"score\", ascending=False).loc[:,[\"score\", \"DCR ST 5th\", \"DCR SH 5th\", \"DCR TH 5th\"]].style.format(sci_format).to_latex().replace(\"_\", \"\\_\"))\n"
   ]
  },
  {
   "cell_type": "code",
   "execution_count": null,
   "metadata": {},
   "outputs": [],
   "source": [
    "import os\n",
    "folder_path = f\"../docs/tesis/imagenes/economicos/top2\"\n",
    "if not os.path.exists(folder_path):\n",
    "    os.mkdir(folder_path)\n",
    "for fig in syn.get_multiple_charts([best_model,second_best_model], {'date', 'id', 'zipcode', 'lat', 'long', 'yr_renovated'}):\n",
    "    if fig:\n",
    "        file_name = f'{fig.layout.title.text.replace(\":\",\"\").replace(\" \",\"_\").lower()}.svg'\n",
    "        fig.write_image(f\"{folder_path}/{file_name}\")\n",
    "        display(fig.show(\"png\"))\n"
   ]
  },
  {
   "cell_type": "code",
   "execution_count": null,
   "metadata": {},
   "outputs": [],
   "source": [
    "import os\n",
    "folder_path = f\"../docs/tesis/imagenes/economicos/top2+1\"\n",
    "if not os.path.exists(folder_path):\n",
    "    os.mkdir(folder_path)\n",
    "for fig in syn.get_multiple_charts([best_model,second_best_model,\"copulagan_27574\"], {'date', 'id', 'zipcode', 'lat', 'long', 'yr_renovated'}):\n",
    "    if fig:\n",
    "        file_name = f'{fig.layout.title.text.replace(\":\",\"\").replace(\" \",\"_\").lower()}.svg'\n",
    "        fig.write_image(f\"{folder_path}/{file_name}\")\n",
    "        display(fig.show(\"png\"))\n"
   ]
  },
  {
   "cell_type": "code",
   "execution_count": null,
   "metadata": {},
   "outputs": [],
   "source": [
    "syn.charts.pair_corr(df.loc[:, syn.fake_data[best_model].columns].dropna(), syn.fake_data[best_model].astype({k:np.float64 for k in ('bathrooms','rooms','m_built','m_size')}), {'id', 'waterfront', 'yr_renovated'}, \"_price\").update_layout(dict(width=1000)).show(\"png\")"
   ]
  },
  {
   "cell_type": "code",
   "execution_count": null,
   "metadata": {},
   "outputs": [],
   "source": [
    "syn.charts.pair_corr(df.loc[:, syn.fake_data[second_best].columns].dropna(), syn.fake_data[second_best].astype({k:np.float64 for k in ('bathrooms','rooms','m_built','m_size')}), {'id', 'waterfront', 'yr_renovated'}, \"_price\").update_layout(dict(width=1000)).show(\"png\")"
   ]
  }
 ],
 "metadata": {
  "kernelspec": {
   "display_name": "Python 3.9.15 64-bit ('syn')",
   "language": "python",
   "name": "python3"
  },
  "language_info": {
   "codemirror_mode": {
    "name": "ipython",
    "version": 3
   },
   "file_extension": ".py",
   "mimetype": "text/x-python",
   "name": "python",
   "nbconvert_exporter": "python",
   "pygments_lexer": "ipython3",
   "version": "3.9.15"
  },
  "orig_nbformat": 4,
  "vscode": {
   "interpreter": {
    "hash": "339c1ec44efa671d0c0aa472f92368e3220a4c3534888d9daac06fdbcd7c45f1"
   }
  }
 },
 "nbformat": 4,
 "nbformat_minor": 2
}
